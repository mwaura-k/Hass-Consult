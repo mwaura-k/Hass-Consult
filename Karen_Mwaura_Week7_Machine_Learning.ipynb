{
  "nbformat": 4,
  "nbformat_minor": 0,
  "metadata": {
    "colab": {
      "name": "Karen_Mwaura_Week7_Machine_Learning.ipynb",
      "provenance": [],
      "collapsed_sections": [],
      "authorship_tag": "ABX9TyN/GJZGEECqbWlpQizNAhDU",
      "include_colab_link": true
    },
    "kernelspec": {
      "name": "python3",
      "display_name": "Python 3"
    },
    "language_info": {
      "name": "python"
    }
  },
  "cells": [
    {
      "cell_type": "markdown",
      "metadata": {
        "id": "view-in-github",
        "colab_type": "text"
      },
      "source": [
        "<a href=\"https://colab.research.google.com/github/mwaura-k/week7/blob/main/Karen_Mwaura_Week7_Machine_Learning.ipynb\" target=\"_parent\"><img src=\"https://colab.research.google.com/assets/colab-badge.svg\" alt=\"Open In Colab\"/></a>"
      ]
    },
    {
      "cell_type": "markdown",
      "metadata": {
        "id": "LgVPUQCF-GtO"
      },
      "source": [
        "## Define the question"
      ]
    },
    {
      "cell_type": "markdown",
      "metadata": {
        "id": "FhovYKJ7FlAe"
      },
      "source": [
        "We will be working for Hass Consulting Company, a real estate firm. The goal is to determine the factors that may affect housing prices; information that was gathered over the previous months. Also, we are to create a model that would allow the company to accurately predict the sale of prices upon being provided with the predictor variables."
      ]
    },
    {
      "cell_type": "markdown",
      "metadata": {
        "id": "TWA-EmGRJS-A"
      },
      "source": [
        "### Success Metrics"
      ]
    },
    {
      "cell_type": "markdown",
      "metadata": {
        "id": "SPDKmqd3JW7p"
      },
      "source": [
        "For this project to be successful, several factors have to be accomplished. \n",
        "These are:\n",
        "\n",
        "*   Ensuring that the models created are able to give accurate predictions; 80% accuracy on the sale of prices with the right predictor variables.\n",
        "*   Determine the factors that affect the pricing of houses and giving insights and recommendations from the data collected. \n",
        "\n"
      ]
    },
    {
      "cell_type": "markdown",
      "metadata": {
        "id": "d1raqkAIMTKZ"
      },
      "source": [
        "### Context for the project"
      ]
    },
    {
      "cell_type": "markdown",
      "metadata": {
        "id": "SmtAQP0NM12S"
      },
      "source": [
        "Hass Consult Limited is a Real Estate firm that was formed in the year 1992. They have been in the market over 25+ years still holding onto a vision to establish a comprehensive firm that reinvents the market patterns by introducing transparency, integrity and professionalism in a market calling for more global standards.\n",
        "\n",
        "The company offers a variety of services ranging from new property development and consultancy to letting, selling and managing of residential and commercial properties, and more recently valuations of all kinds of properties, including hotels, businesses and industries."
      ]
    },
    {
      "cell_type": "markdown",
      "metadata": {
        "id": "AGs5xQM9Pc3x"
      },
      "source": [
        "### Experimental design taken"
      ]
    },
    {
      "cell_type": "markdown",
      "metadata": {
        "id": "mxe-bKB9Plv9"
      },
      "source": [
        "\n",
        "\n",
        "*   Our dataset is sufficient to answer the question on sale prices and to make predictions\n",
        "*   Load the dataset and study it.\n",
        "*   Perform data cleaning.\n",
        "*   Check for anomalies, outliers and missing values and deal with them.\n",
        "\n",
        "\n",
        "*   Perform univariate, bivariate and multivariate analysis and record the observations.\n",
        "\n",
        "*   Performing regression analysis. Here we will perform modelling using several regression techniques like;\n",
        "\n",
        "              Multiple Linear Regression\n",
        "              Quantile Regression\n",
        "              Ridge Regression\n",
        "              Lasso Regression\n",
        "              Elastic Net Regression\n",
        "\n",
        "\n",
        "\n",
        "*   Evaluate the performance of the models and give recommendation on the suitability of each of the tested models on their appropriateness of solving the given problem. \n",
        "*   Check for multicollinearity\n",
        "\n",
        "*   Create residual plots for the models, and assess heteroskedasticity using Barlett's test.\n",
        "*   Challenge your solution by providing insights and giving recommendations.\n",
        "\n",
        "\n",
        "\n",
        "\n",
        "\n",
        "\n",
        "\n",
        "\n"
      ]
    },
    {
      "cell_type": "markdown",
      "metadata": {
        "id": "JR4f2QXfa4Qu"
      },
      "source": [
        "### Data relevance"
      ]
    },
    {
      "cell_type": "markdown",
      "metadata": {
        "id": "dF-qxsILbDwd"
      },
      "source": [
        "The dataset we are working with is house_data. The dataset has 20 rows and 21614 rows. The dataset is relevant to answering the primary questions."
      ]
    },
    {
      "cell_type": "markdown",
      "metadata": {
        "id": "H0dtYV7TpL8r"
      },
      "source": [
        "# Import Libraries"
      ]
    },
    {
      "cell_type": "code",
      "metadata": {
        "id": "2LF8sF4Y9yj1"
      },
      "source": [
        "# Import the relevant libraries\n",
        "# \n",
        "import pandas as pd\n",
        "import numpy as np\n",
        "import matplotlib.pyplot as plt \n",
        "import seaborn as sns"
      ],
      "execution_count": null,
      "outputs": []
    },
    {
      "cell_type": "markdown",
      "metadata": {
        "id": "LmtLtza8rNii"
      },
      "source": [
        "# Load the dataset"
      ]
    },
    {
      "cell_type": "code",
      "metadata": {
        "colab": {
          "base_uri": "https://localhost:8080/",
          "height": 226
        },
        "id": "c7Y-lU3irL07",
        "outputId": "1404db6a-09ac-4bee-8fd5-d62cd131a356"
      },
      "source": [
        "# Load house_data dataset\n",
        "house_df=pd.read_csv('/content/Independent Project Week 7 - house_data.csv')\n",
        "\n",
        "# Preview first five records\n",
        "house_df.head(5)"
      ],
      "execution_count": null,
      "outputs": [
        {
          "output_type": "execute_result",
          "data": {
            "text/html": [
              "<div>\n",
              "<style scoped>\n",
              "    .dataframe tbody tr th:only-of-type {\n",
              "        vertical-align: middle;\n",
              "    }\n",
              "\n",
              "    .dataframe tbody tr th {\n",
              "        vertical-align: top;\n",
              "    }\n",
              "\n",
              "    .dataframe thead th {\n",
              "        text-align: right;\n",
              "    }\n",
              "</style>\n",
              "<table border=\"1\" class=\"dataframe\">\n",
              "  <thead>\n",
              "    <tr style=\"text-align: right;\">\n",
              "      <th></th>\n",
              "      <th>id</th>\n",
              "      <th>price</th>\n",
              "      <th>bedrooms</th>\n",
              "      <th>bathrooms</th>\n",
              "      <th>sqft_living</th>\n",
              "      <th>sqft_lot</th>\n",
              "      <th>floors</th>\n",
              "      <th>waterfront</th>\n",
              "      <th>view</th>\n",
              "      <th>condition</th>\n",
              "      <th>grade</th>\n",
              "      <th>sqft_above</th>\n",
              "      <th>sqft_basement</th>\n",
              "      <th>yr_built</th>\n",
              "      <th>yr_renovated</th>\n",
              "      <th>zipcode</th>\n",
              "      <th>lat</th>\n",
              "      <th>long</th>\n",
              "      <th>sqft_living15</th>\n",
              "      <th>sqft_lot15</th>\n",
              "    </tr>\n",
              "  </thead>\n",
              "  <tbody>\n",
              "    <tr>\n",
              "      <th>0</th>\n",
              "      <td>7129300520</td>\n",
              "      <td>221900.0</td>\n",
              "      <td>3</td>\n",
              "      <td>1.00</td>\n",
              "      <td>1180</td>\n",
              "      <td>5650</td>\n",
              "      <td>1.0</td>\n",
              "      <td>0</td>\n",
              "      <td>0</td>\n",
              "      <td>3</td>\n",
              "      <td>7</td>\n",
              "      <td>1180</td>\n",
              "      <td>0</td>\n",
              "      <td>1955</td>\n",
              "      <td>0</td>\n",
              "      <td>98178</td>\n",
              "      <td>47.5112</td>\n",
              "      <td>-122.257</td>\n",
              "      <td>1340</td>\n",
              "      <td>5650</td>\n",
              "    </tr>\n",
              "    <tr>\n",
              "      <th>1</th>\n",
              "      <td>6414100192</td>\n",
              "      <td>538000.0</td>\n",
              "      <td>3</td>\n",
              "      <td>2.25</td>\n",
              "      <td>2570</td>\n",
              "      <td>7242</td>\n",
              "      <td>2.0</td>\n",
              "      <td>0</td>\n",
              "      <td>0</td>\n",
              "      <td>3</td>\n",
              "      <td>7</td>\n",
              "      <td>2170</td>\n",
              "      <td>400</td>\n",
              "      <td>1951</td>\n",
              "      <td>1991</td>\n",
              "      <td>98125</td>\n",
              "      <td>47.7210</td>\n",
              "      <td>-122.319</td>\n",
              "      <td>1690</td>\n",
              "      <td>7639</td>\n",
              "    </tr>\n",
              "    <tr>\n",
              "      <th>2</th>\n",
              "      <td>5631500400</td>\n",
              "      <td>180000.0</td>\n",
              "      <td>2</td>\n",
              "      <td>1.00</td>\n",
              "      <td>770</td>\n",
              "      <td>10000</td>\n",
              "      <td>1.0</td>\n",
              "      <td>0</td>\n",
              "      <td>0</td>\n",
              "      <td>3</td>\n",
              "      <td>6</td>\n",
              "      <td>770</td>\n",
              "      <td>0</td>\n",
              "      <td>1933</td>\n",
              "      <td>0</td>\n",
              "      <td>98028</td>\n",
              "      <td>47.7379</td>\n",
              "      <td>-122.233</td>\n",
              "      <td>2720</td>\n",
              "      <td>8062</td>\n",
              "    </tr>\n",
              "    <tr>\n",
              "      <th>3</th>\n",
              "      <td>2487200875</td>\n",
              "      <td>604000.0</td>\n",
              "      <td>4</td>\n",
              "      <td>3.00</td>\n",
              "      <td>1960</td>\n",
              "      <td>5000</td>\n",
              "      <td>1.0</td>\n",
              "      <td>0</td>\n",
              "      <td>0</td>\n",
              "      <td>5</td>\n",
              "      <td>7</td>\n",
              "      <td>1050</td>\n",
              "      <td>910</td>\n",
              "      <td>1965</td>\n",
              "      <td>0</td>\n",
              "      <td>98136</td>\n",
              "      <td>47.5208</td>\n",
              "      <td>-122.393</td>\n",
              "      <td>1360</td>\n",
              "      <td>5000</td>\n",
              "    </tr>\n",
              "    <tr>\n",
              "      <th>4</th>\n",
              "      <td>1954400510</td>\n",
              "      <td>510000.0</td>\n",
              "      <td>3</td>\n",
              "      <td>2.00</td>\n",
              "      <td>1680</td>\n",
              "      <td>8080</td>\n",
              "      <td>1.0</td>\n",
              "      <td>0</td>\n",
              "      <td>0</td>\n",
              "      <td>3</td>\n",
              "      <td>8</td>\n",
              "      <td>1680</td>\n",
              "      <td>0</td>\n",
              "      <td>1987</td>\n",
              "      <td>0</td>\n",
              "      <td>98074</td>\n",
              "      <td>47.6168</td>\n",
              "      <td>-122.045</td>\n",
              "      <td>1800</td>\n",
              "      <td>7503</td>\n",
              "    </tr>\n",
              "  </tbody>\n",
              "</table>\n",
              "</div>"
            ],
            "text/plain": [
              "           id     price  bedrooms  ...     long  sqft_living15  sqft_lot15\n",
              "0  7129300520  221900.0         3  ... -122.257           1340        5650\n",
              "1  6414100192  538000.0         3  ... -122.319           1690        7639\n",
              "2  5631500400  180000.0         2  ... -122.233           2720        8062\n",
              "3  2487200875  604000.0         4  ... -122.393           1360        5000\n",
              "4  1954400510  510000.0         3  ... -122.045           1800        7503\n",
              "\n",
              "[5 rows x 20 columns]"
            ]
          },
          "metadata": {},
          "execution_count": 134
        }
      ]
    },
    {
      "cell_type": "code",
      "metadata": {
        "colab": {
          "base_uri": "https://localhost:8080/",
          "height": 226
        },
        "id": "66VnlflDsjLQ",
        "outputId": "802a2a26-61f8-4724-a37c-c003779a0b64"
      },
      "source": [
        "# Preview last five records\n",
        "house_df.tail(5)"
      ],
      "execution_count": null,
      "outputs": [
        {
          "output_type": "execute_result",
          "data": {
            "text/html": [
              "<div>\n",
              "<style scoped>\n",
              "    .dataframe tbody tr th:only-of-type {\n",
              "        vertical-align: middle;\n",
              "    }\n",
              "\n",
              "    .dataframe tbody tr th {\n",
              "        vertical-align: top;\n",
              "    }\n",
              "\n",
              "    .dataframe thead th {\n",
              "        text-align: right;\n",
              "    }\n",
              "</style>\n",
              "<table border=\"1\" class=\"dataframe\">\n",
              "  <thead>\n",
              "    <tr style=\"text-align: right;\">\n",
              "      <th></th>\n",
              "      <th>id</th>\n",
              "      <th>price</th>\n",
              "      <th>bedrooms</th>\n",
              "      <th>bathrooms</th>\n",
              "      <th>sqft_living</th>\n",
              "      <th>sqft_lot</th>\n",
              "      <th>floors</th>\n",
              "      <th>waterfront</th>\n",
              "      <th>view</th>\n",
              "      <th>condition</th>\n",
              "      <th>grade</th>\n",
              "      <th>sqft_above</th>\n",
              "      <th>sqft_basement</th>\n",
              "      <th>yr_built</th>\n",
              "      <th>yr_renovated</th>\n",
              "      <th>zipcode</th>\n",
              "      <th>lat</th>\n",
              "      <th>long</th>\n",
              "      <th>sqft_living15</th>\n",
              "      <th>sqft_lot15</th>\n",
              "    </tr>\n",
              "  </thead>\n",
              "  <tbody>\n",
              "    <tr>\n",
              "      <th>21608</th>\n",
              "      <td>263000018</td>\n",
              "      <td>360000.0</td>\n",
              "      <td>3</td>\n",
              "      <td>2.50</td>\n",
              "      <td>1530</td>\n",
              "      <td>1131</td>\n",
              "      <td>3.0</td>\n",
              "      <td>0</td>\n",
              "      <td>0</td>\n",
              "      <td>3</td>\n",
              "      <td>8</td>\n",
              "      <td>1530</td>\n",
              "      <td>0</td>\n",
              "      <td>2009</td>\n",
              "      <td>0</td>\n",
              "      <td>98103</td>\n",
              "      <td>47.6993</td>\n",
              "      <td>-122.346</td>\n",
              "      <td>1530</td>\n",
              "      <td>1509</td>\n",
              "    </tr>\n",
              "    <tr>\n",
              "      <th>21609</th>\n",
              "      <td>6600060120</td>\n",
              "      <td>400000.0</td>\n",
              "      <td>4</td>\n",
              "      <td>2.50</td>\n",
              "      <td>2310</td>\n",
              "      <td>5813</td>\n",
              "      <td>2.0</td>\n",
              "      <td>0</td>\n",
              "      <td>0</td>\n",
              "      <td>3</td>\n",
              "      <td>8</td>\n",
              "      <td>2310</td>\n",
              "      <td>0</td>\n",
              "      <td>2014</td>\n",
              "      <td>0</td>\n",
              "      <td>98146</td>\n",
              "      <td>47.5107</td>\n",
              "      <td>-122.362</td>\n",
              "      <td>1830</td>\n",
              "      <td>7200</td>\n",
              "    </tr>\n",
              "    <tr>\n",
              "      <th>21610</th>\n",
              "      <td>1523300141</td>\n",
              "      <td>402101.0</td>\n",
              "      <td>2</td>\n",
              "      <td>0.75</td>\n",
              "      <td>1020</td>\n",
              "      <td>1350</td>\n",
              "      <td>2.0</td>\n",
              "      <td>0</td>\n",
              "      <td>0</td>\n",
              "      <td>3</td>\n",
              "      <td>7</td>\n",
              "      <td>1020</td>\n",
              "      <td>0</td>\n",
              "      <td>2009</td>\n",
              "      <td>0</td>\n",
              "      <td>98144</td>\n",
              "      <td>47.5944</td>\n",
              "      <td>-122.299</td>\n",
              "      <td>1020</td>\n",
              "      <td>2007</td>\n",
              "    </tr>\n",
              "    <tr>\n",
              "      <th>21611</th>\n",
              "      <td>291310100</td>\n",
              "      <td>400000.0</td>\n",
              "      <td>3</td>\n",
              "      <td>2.50</td>\n",
              "      <td>1600</td>\n",
              "      <td>2388</td>\n",
              "      <td>2.0</td>\n",
              "      <td>0</td>\n",
              "      <td>0</td>\n",
              "      <td>3</td>\n",
              "      <td>8</td>\n",
              "      <td>1600</td>\n",
              "      <td>0</td>\n",
              "      <td>2004</td>\n",
              "      <td>0</td>\n",
              "      <td>98027</td>\n",
              "      <td>47.5345</td>\n",
              "      <td>-122.069</td>\n",
              "      <td>1410</td>\n",
              "      <td>1287</td>\n",
              "    </tr>\n",
              "    <tr>\n",
              "      <th>21612</th>\n",
              "      <td>1523300157</td>\n",
              "      <td>325000.0</td>\n",
              "      <td>2</td>\n",
              "      <td>0.75</td>\n",
              "      <td>1020</td>\n",
              "      <td>1076</td>\n",
              "      <td>2.0</td>\n",
              "      <td>0</td>\n",
              "      <td>0</td>\n",
              "      <td>3</td>\n",
              "      <td>7</td>\n",
              "      <td>1020</td>\n",
              "      <td>0</td>\n",
              "      <td>2008</td>\n",
              "      <td>0</td>\n",
              "      <td>98144</td>\n",
              "      <td>47.5941</td>\n",
              "      <td>-122.299</td>\n",
              "      <td>1020</td>\n",
              "      <td>1357</td>\n",
              "    </tr>\n",
              "  </tbody>\n",
              "</table>\n",
              "</div>"
            ],
            "text/plain": [
              "               id     price  bedrooms  ...     long  sqft_living15  sqft_lot15\n",
              "21608   263000018  360000.0         3  ... -122.346           1530        1509\n",
              "21609  6600060120  400000.0         4  ... -122.362           1830        7200\n",
              "21610  1523300141  402101.0         2  ... -122.299           1020        2007\n",
              "21611   291310100  400000.0         3  ... -122.069           1410        1287\n",
              "21612  1523300157  325000.0         2  ... -122.299           1020        1357\n",
              "\n",
              "[5 rows x 20 columns]"
            ]
          },
          "metadata": {},
          "execution_count": 135
        }
      ]
    },
    {
      "cell_type": "code",
      "metadata": {
        "colab": {
          "base_uri": "https://localhost:8080/",
          "height": 226
        },
        "id": "zBAAKTzxs3pg",
        "outputId": "1f12d67f-22d8-4222-900c-d94da25faf1f"
      },
      "source": [
        "# Preview sample data\n",
        "house_df.sample(5)"
      ],
      "execution_count": null,
      "outputs": [
        {
          "output_type": "execute_result",
          "data": {
            "text/html": [
              "<div>\n",
              "<style scoped>\n",
              "    .dataframe tbody tr th:only-of-type {\n",
              "        vertical-align: middle;\n",
              "    }\n",
              "\n",
              "    .dataframe tbody tr th {\n",
              "        vertical-align: top;\n",
              "    }\n",
              "\n",
              "    .dataframe thead th {\n",
              "        text-align: right;\n",
              "    }\n",
              "</style>\n",
              "<table border=\"1\" class=\"dataframe\">\n",
              "  <thead>\n",
              "    <tr style=\"text-align: right;\">\n",
              "      <th></th>\n",
              "      <th>id</th>\n",
              "      <th>price</th>\n",
              "      <th>bedrooms</th>\n",
              "      <th>bathrooms</th>\n",
              "      <th>sqft_living</th>\n",
              "      <th>sqft_lot</th>\n",
              "      <th>floors</th>\n",
              "      <th>waterfront</th>\n",
              "      <th>view</th>\n",
              "      <th>condition</th>\n",
              "      <th>grade</th>\n",
              "      <th>sqft_above</th>\n",
              "      <th>sqft_basement</th>\n",
              "      <th>yr_built</th>\n",
              "      <th>yr_renovated</th>\n",
              "      <th>zipcode</th>\n",
              "      <th>lat</th>\n",
              "      <th>long</th>\n",
              "      <th>sqft_living15</th>\n",
              "      <th>sqft_lot15</th>\n",
              "    </tr>\n",
              "  </thead>\n",
              "  <tbody>\n",
              "    <tr>\n",
              "      <th>1785</th>\n",
              "      <td>8732130140</td>\n",
              "      <td>285000.0</td>\n",
              "      <td>4</td>\n",
              "      <td>2.25</td>\n",
              "      <td>2150</td>\n",
              "      <td>8250</td>\n",
              "      <td>1.0</td>\n",
              "      <td>0</td>\n",
              "      <td>0</td>\n",
              "      <td>4</td>\n",
              "      <td>7</td>\n",
              "      <td>1240</td>\n",
              "      <td>910</td>\n",
              "      <td>1978</td>\n",
              "      <td>0</td>\n",
              "      <td>98023</td>\n",
              "      <td>47.3045</td>\n",
              "      <td>-122.378</td>\n",
              "      <td>2050</td>\n",
              "      <td>7875</td>\n",
              "    </tr>\n",
              "    <tr>\n",
              "      <th>10309</th>\n",
              "      <td>2472950350</td>\n",
              "      <td>312500.0</td>\n",
              "      <td>4</td>\n",
              "      <td>2.50</td>\n",
              "      <td>2500</td>\n",
              "      <td>11983</td>\n",
              "      <td>1.0</td>\n",
              "      <td>0</td>\n",
              "      <td>0</td>\n",
              "      <td>3</td>\n",
              "      <td>7</td>\n",
              "      <td>1320</td>\n",
              "      <td>1180</td>\n",
              "      <td>1984</td>\n",
              "      <td>2008</td>\n",
              "      <td>98058</td>\n",
              "      <td>47.4292</td>\n",
              "      <td>-122.148</td>\n",
              "      <td>1460</td>\n",
              "      <td>9005</td>\n",
              "    </tr>\n",
              "    <tr>\n",
              "      <th>17328</th>\n",
              "      <td>868001435</td>\n",
              "      <td>2230000.0</td>\n",
              "      <td>3</td>\n",
              "      <td>3.00</td>\n",
              "      <td>3450</td>\n",
              "      <td>16740</td>\n",
              "      <td>1.0</td>\n",
              "      <td>0</td>\n",
              "      <td>4</td>\n",
              "      <td>4</td>\n",
              "      <td>9</td>\n",
              "      <td>1960</td>\n",
              "      <td>1490</td>\n",
              "      <td>1949</td>\n",
              "      <td>1993</td>\n",
              "      <td>98177</td>\n",
              "      <td>47.7067</td>\n",
              "      <td>-122.380</td>\n",
              "      <td>3220</td>\n",
              "      <td>12528</td>\n",
              "    </tr>\n",
              "    <tr>\n",
              "      <th>16780</th>\n",
              "      <td>638100073</td>\n",
              "      <td>327000.0</td>\n",
              "      <td>3</td>\n",
              "      <td>1.50</td>\n",
              "      <td>1320</td>\n",
              "      <td>13200</td>\n",
              "      <td>1.0</td>\n",
              "      <td>0</td>\n",
              "      <td>0</td>\n",
              "      <td>3</td>\n",
              "      <td>7</td>\n",
              "      <td>1320</td>\n",
              "      <td>0</td>\n",
              "      <td>1970</td>\n",
              "      <td>0</td>\n",
              "      <td>98059</td>\n",
              "      <td>47.5009</td>\n",
              "      <td>-122.143</td>\n",
              "      <td>1730</td>\n",
              "      <td>13200</td>\n",
              "    </tr>\n",
              "    <tr>\n",
              "      <th>16224</th>\n",
              "      <td>2123049502</td>\n",
              "      <td>215000.0</td>\n",
              "      <td>3</td>\n",
              "      <td>2.00</td>\n",
              "      <td>1340</td>\n",
              "      <td>8505</td>\n",
              "      <td>1.0</td>\n",
              "      <td>0</td>\n",
              "      <td>0</td>\n",
              "      <td>3</td>\n",
              "      <td>6</td>\n",
              "      <td>1340</td>\n",
              "      <td>0</td>\n",
              "      <td>1931</td>\n",
              "      <td>0</td>\n",
              "      <td>98168</td>\n",
              "      <td>47.4727</td>\n",
              "      <td>-122.297</td>\n",
              "      <td>1370</td>\n",
              "      <td>9000</td>\n",
              "    </tr>\n",
              "  </tbody>\n",
              "</table>\n",
              "</div>"
            ],
            "text/plain": [
              "               id      price  bedrooms  ...     long  sqft_living15  sqft_lot15\n",
              "1785   8732130140   285000.0         4  ... -122.378           2050        7875\n",
              "10309  2472950350   312500.0         4  ... -122.148           1460        9005\n",
              "17328   868001435  2230000.0         3  ... -122.380           3220       12528\n",
              "16780   638100073   327000.0         3  ... -122.143           1730       13200\n",
              "16224  2123049502   215000.0         3  ... -122.297           1370        9000\n",
              "\n",
              "[5 rows x 20 columns]"
            ]
          },
          "metadata": {},
          "execution_count": 136
        }
      ]
    },
    {
      "cell_type": "code",
      "metadata": {
        "colab": {
          "base_uri": "https://localhost:8080/"
        },
        "id": "rJIta7G8tI8X",
        "outputId": "d4661d28-27e0-43f9-c699-59b2ac449835"
      },
      "source": [
        "# Determine the number of rows and columns of the dataset\n",
        "house_df.shape"
      ],
      "execution_count": null,
      "outputs": [
        {
          "output_type": "execute_result",
          "data": {
            "text/plain": [
              "(21613, 20)"
            ]
          },
          "metadata": {},
          "execution_count": 137
        }
      ]
    },
    {
      "cell_type": "code",
      "metadata": {
        "colab": {
          "base_uri": "https://localhost:8080/"
        },
        "id": "W4AwO3Pet-6W",
        "outputId": "29803227-a257-48e5-c0d8-c1965d80983d"
      },
      "source": [
        "# Determine the datatypes of the columns\n",
        "house_df.dtypes"
      ],
      "execution_count": null,
      "outputs": [
        {
          "output_type": "execute_result",
          "data": {
            "text/plain": [
              "id                 int64\n",
              "price            float64\n",
              "bedrooms           int64\n",
              "bathrooms        float64\n",
              "sqft_living        int64\n",
              "sqft_lot           int64\n",
              "floors           float64\n",
              "waterfront         int64\n",
              "view               int64\n",
              "condition          int64\n",
              "grade              int64\n",
              "sqft_above         int64\n",
              "sqft_basement      int64\n",
              "yr_built           int64\n",
              "yr_renovated       int64\n",
              "zipcode            int64\n",
              "lat              float64\n",
              "long             float64\n",
              "sqft_living15      int64\n",
              "sqft_lot15         int64\n",
              "dtype: object"
            ]
          },
          "metadata": {},
          "execution_count": 138
        }
      ]
    },
    {
      "cell_type": "code",
      "metadata": {
        "colab": {
          "base_uri": "https://localhost:8080/",
          "height": 320
        },
        "id": "n5v7naAZB15N",
        "outputId": "0710e0e4-84ba-465b-dcaf-7a8c07fe0e93"
      },
      "source": [
        "# data statistical view\n",
        "house_df.describe()"
      ],
      "execution_count": null,
      "outputs": [
        {
          "output_type": "execute_result",
          "data": {
            "text/html": [
              "<div>\n",
              "<style scoped>\n",
              "    .dataframe tbody tr th:only-of-type {\n",
              "        vertical-align: middle;\n",
              "    }\n",
              "\n",
              "    .dataframe tbody tr th {\n",
              "        vertical-align: top;\n",
              "    }\n",
              "\n",
              "    .dataframe thead th {\n",
              "        text-align: right;\n",
              "    }\n",
              "</style>\n",
              "<table border=\"1\" class=\"dataframe\">\n",
              "  <thead>\n",
              "    <tr style=\"text-align: right;\">\n",
              "      <th></th>\n",
              "      <th>id</th>\n",
              "      <th>price</th>\n",
              "      <th>bedrooms</th>\n",
              "      <th>bathrooms</th>\n",
              "      <th>sqft_living</th>\n",
              "      <th>sqft_lot</th>\n",
              "      <th>floors</th>\n",
              "      <th>waterfront</th>\n",
              "      <th>view</th>\n",
              "      <th>condition</th>\n",
              "      <th>grade</th>\n",
              "      <th>sqft_above</th>\n",
              "      <th>sqft_basement</th>\n",
              "      <th>yr_built</th>\n",
              "      <th>yr_renovated</th>\n",
              "      <th>zipcode</th>\n",
              "      <th>lat</th>\n",
              "      <th>long</th>\n",
              "      <th>sqft_living15</th>\n",
              "      <th>sqft_lot15</th>\n",
              "    </tr>\n",
              "  </thead>\n",
              "  <tbody>\n",
              "    <tr>\n",
              "      <th>count</th>\n",
              "      <td>2.161300e+04</td>\n",
              "      <td>2.161300e+04</td>\n",
              "      <td>21613.000000</td>\n",
              "      <td>21613.000000</td>\n",
              "      <td>21613.000000</td>\n",
              "      <td>2.161300e+04</td>\n",
              "      <td>21613.000000</td>\n",
              "      <td>21613.000000</td>\n",
              "      <td>21613.000000</td>\n",
              "      <td>21613.000000</td>\n",
              "      <td>21613.000000</td>\n",
              "      <td>21613.000000</td>\n",
              "      <td>21613.000000</td>\n",
              "      <td>21613.000000</td>\n",
              "      <td>21613.000000</td>\n",
              "      <td>21613.000000</td>\n",
              "      <td>21613.000000</td>\n",
              "      <td>21613.000000</td>\n",
              "      <td>21613.000000</td>\n",
              "      <td>21613.000000</td>\n",
              "    </tr>\n",
              "    <tr>\n",
              "      <th>mean</th>\n",
              "      <td>4.580302e+09</td>\n",
              "      <td>5.401822e+05</td>\n",
              "      <td>3.370842</td>\n",
              "      <td>2.114757</td>\n",
              "      <td>2079.899736</td>\n",
              "      <td>1.510697e+04</td>\n",
              "      <td>1.494309</td>\n",
              "      <td>0.007542</td>\n",
              "      <td>0.234303</td>\n",
              "      <td>3.409430</td>\n",
              "      <td>7.656873</td>\n",
              "      <td>1788.390691</td>\n",
              "      <td>291.509045</td>\n",
              "      <td>1971.005136</td>\n",
              "      <td>84.402258</td>\n",
              "      <td>98077.939805</td>\n",
              "      <td>47.560053</td>\n",
              "      <td>-122.213896</td>\n",
              "      <td>1986.552492</td>\n",
              "      <td>12768.455652</td>\n",
              "    </tr>\n",
              "    <tr>\n",
              "      <th>std</th>\n",
              "      <td>2.876566e+09</td>\n",
              "      <td>3.673622e+05</td>\n",
              "      <td>0.930062</td>\n",
              "      <td>0.770163</td>\n",
              "      <td>918.440897</td>\n",
              "      <td>4.142051e+04</td>\n",
              "      <td>0.539989</td>\n",
              "      <td>0.086517</td>\n",
              "      <td>0.766318</td>\n",
              "      <td>0.650743</td>\n",
              "      <td>1.175459</td>\n",
              "      <td>828.090978</td>\n",
              "      <td>442.575043</td>\n",
              "      <td>29.373411</td>\n",
              "      <td>401.679240</td>\n",
              "      <td>53.505026</td>\n",
              "      <td>0.138564</td>\n",
              "      <td>0.140828</td>\n",
              "      <td>685.391304</td>\n",
              "      <td>27304.179631</td>\n",
              "    </tr>\n",
              "    <tr>\n",
              "      <th>min</th>\n",
              "      <td>1.000102e+06</td>\n",
              "      <td>7.500000e+04</td>\n",
              "      <td>0.000000</td>\n",
              "      <td>0.000000</td>\n",
              "      <td>290.000000</td>\n",
              "      <td>5.200000e+02</td>\n",
              "      <td>1.000000</td>\n",
              "      <td>0.000000</td>\n",
              "      <td>0.000000</td>\n",
              "      <td>1.000000</td>\n",
              "      <td>1.000000</td>\n",
              "      <td>290.000000</td>\n",
              "      <td>0.000000</td>\n",
              "      <td>1900.000000</td>\n",
              "      <td>0.000000</td>\n",
              "      <td>98001.000000</td>\n",
              "      <td>47.155900</td>\n",
              "      <td>-122.519000</td>\n",
              "      <td>399.000000</td>\n",
              "      <td>651.000000</td>\n",
              "    </tr>\n",
              "    <tr>\n",
              "      <th>25%</th>\n",
              "      <td>2.123049e+09</td>\n",
              "      <td>3.219500e+05</td>\n",
              "      <td>3.000000</td>\n",
              "      <td>1.750000</td>\n",
              "      <td>1427.000000</td>\n",
              "      <td>5.040000e+03</td>\n",
              "      <td>1.000000</td>\n",
              "      <td>0.000000</td>\n",
              "      <td>0.000000</td>\n",
              "      <td>3.000000</td>\n",
              "      <td>7.000000</td>\n",
              "      <td>1190.000000</td>\n",
              "      <td>0.000000</td>\n",
              "      <td>1951.000000</td>\n",
              "      <td>0.000000</td>\n",
              "      <td>98033.000000</td>\n",
              "      <td>47.471000</td>\n",
              "      <td>-122.328000</td>\n",
              "      <td>1490.000000</td>\n",
              "      <td>5100.000000</td>\n",
              "    </tr>\n",
              "    <tr>\n",
              "      <th>50%</th>\n",
              "      <td>3.904930e+09</td>\n",
              "      <td>4.500000e+05</td>\n",
              "      <td>3.000000</td>\n",
              "      <td>2.250000</td>\n",
              "      <td>1910.000000</td>\n",
              "      <td>7.618000e+03</td>\n",
              "      <td>1.500000</td>\n",
              "      <td>0.000000</td>\n",
              "      <td>0.000000</td>\n",
              "      <td>3.000000</td>\n",
              "      <td>7.000000</td>\n",
              "      <td>1560.000000</td>\n",
              "      <td>0.000000</td>\n",
              "      <td>1975.000000</td>\n",
              "      <td>0.000000</td>\n",
              "      <td>98065.000000</td>\n",
              "      <td>47.571800</td>\n",
              "      <td>-122.230000</td>\n",
              "      <td>1840.000000</td>\n",
              "      <td>7620.000000</td>\n",
              "    </tr>\n",
              "    <tr>\n",
              "      <th>75%</th>\n",
              "      <td>7.308900e+09</td>\n",
              "      <td>6.450000e+05</td>\n",
              "      <td>4.000000</td>\n",
              "      <td>2.500000</td>\n",
              "      <td>2550.000000</td>\n",
              "      <td>1.068800e+04</td>\n",
              "      <td>2.000000</td>\n",
              "      <td>0.000000</td>\n",
              "      <td>0.000000</td>\n",
              "      <td>4.000000</td>\n",
              "      <td>8.000000</td>\n",
              "      <td>2210.000000</td>\n",
              "      <td>560.000000</td>\n",
              "      <td>1997.000000</td>\n",
              "      <td>0.000000</td>\n",
              "      <td>98118.000000</td>\n",
              "      <td>47.678000</td>\n",
              "      <td>-122.125000</td>\n",
              "      <td>2360.000000</td>\n",
              "      <td>10083.000000</td>\n",
              "    </tr>\n",
              "    <tr>\n",
              "      <th>max</th>\n",
              "      <td>9.900000e+09</td>\n",
              "      <td>7.700000e+06</td>\n",
              "      <td>33.000000</td>\n",
              "      <td>8.000000</td>\n",
              "      <td>13540.000000</td>\n",
              "      <td>1.651359e+06</td>\n",
              "      <td>3.500000</td>\n",
              "      <td>1.000000</td>\n",
              "      <td>4.000000</td>\n",
              "      <td>5.000000</td>\n",
              "      <td>13.000000</td>\n",
              "      <td>9410.000000</td>\n",
              "      <td>4820.000000</td>\n",
              "      <td>2015.000000</td>\n",
              "      <td>2015.000000</td>\n",
              "      <td>98199.000000</td>\n",
              "      <td>47.777600</td>\n",
              "      <td>-121.315000</td>\n",
              "      <td>6210.000000</td>\n",
              "      <td>871200.000000</td>\n",
              "    </tr>\n",
              "  </tbody>\n",
              "</table>\n",
              "</div>"
            ],
            "text/plain": [
              "                 id         price  ...  sqft_living15     sqft_lot15\n",
              "count  2.161300e+04  2.161300e+04  ...   21613.000000   21613.000000\n",
              "mean   4.580302e+09  5.401822e+05  ...    1986.552492   12768.455652\n",
              "std    2.876566e+09  3.673622e+05  ...     685.391304   27304.179631\n",
              "min    1.000102e+06  7.500000e+04  ...     399.000000     651.000000\n",
              "25%    2.123049e+09  3.219500e+05  ...    1490.000000    5100.000000\n",
              "50%    3.904930e+09  4.500000e+05  ...    1840.000000    7620.000000\n",
              "75%    7.308900e+09  6.450000e+05  ...    2360.000000   10083.000000\n",
              "max    9.900000e+09  7.700000e+06  ...    6210.000000  871200.000000\n",
              "\n",
              "[8 rows x 20 columns]"
            ]
          },
          "metadata": {},
          "execution_count": 139
        }
      ]
    },
    {
      "cell_type": "markdown",
      "metadata": {
        "id": "FjY0U2Gsxvk2"
      },
      "source": [
        "# Cleaning the data"
      ]
    },
    {
      "cell_type": "code",
      "metadata": {
        "colab": {
          "base_uri": "https://localhost:8080/"
        },
        "id": "B4_h65Cttfk_",
        "outputId": "d778b620-e8f6-4556-b1c3-29da4363cfc5"
      },
      "source": [
        "# check if dataset has missing values\n",
        "house_df.isnull().sum()"
      ],
      "execution_count": null,
      "outputs": [
        {
          "output_type": "execute_result",
          "data": {
            "text/plain": [
              "id               0\n",
              "price            0\n",
              "bedrooms         0\n",
              "bathrooms        0\n",
              "sqft_living      0\n",
              "sqft_lot         0\n",
              "floors           0\n",
              "waterfront       0\n",
              "view             0\n",
              "condition        0\n",
              "grade            0\n",
              "sqft_above       0\n",
              "sqft_basement    0\n",
              "yr_built         0\n",
              "yr_renovated     0\n",
              "zipcode          0\n",
              "lat              0\n",
              "long             0\n",
              "sqft_living15    0\n",
              "sqft_lot15       0\n",
              "dtype: int64"
            ]
          },
          "metadata": {},
          "execution_count": 140
        }
      ]
    },
    {
      "cell_type": "markdown",
      "metadata": {
        "id": "oOymaTPGvW3f"
      },
      "source": [
        "The data does not have any missing values."
      ]
    },
    {
      "cell_type": "code",
      "metadata": {
        "colab": {
          "base_uri": "https://localhost:8080/"
        },
        "id": "TYbGywPAucrE",
        "outputId": "a29f2bb2-10f4-4f77-9b29-f1e08a2b6b21"
      },
      "source": [
        "# Checking for any duplicates\n",
        "house_df.duplicated().sum()"
      ],
      "execution_count": null,
      "outputs": [
        {
          "output_type": "execute_result",
          "data": {
            "text/plain": [
              "3"
            ]
          },
          "metadata": {},
          "execution_count": 141
        }
      ]
    },
    {
      "cell_type": "code",
      "metadata": {
        "id": "MGKGFWqO3KMa"
      },
      "source": [
        "# drop the duplicates\n",
        "house_df.drop_duplicates(inplace=True)"
      ],
      "execution_count": null,
      "outputs": []
    },
    {
      "cell_type": "code",
      "metadata": {
        "colab": {
          "base_uri": "https://localhost:8080/"
        },
        "id": "S3iUwUNU3xo3",
        "outputId": "b2f9a7d0-495c-47d3-a160-3ca68af5d66f"
      },
      "source": [
        "# Confirming if the values are dropped\n",
        "house_df.duplicated().sum()"
      ],
      "execution_count": null,
      "outputs": [
        {
          "output_type": "execute_result",
          "data": {
            "text/plain": [
              "0"
            ]
          },
          "metadata": {},
          "execution_count": 143
        }
      ]
    },
    {
      "cell_type": "code",
      "metadata": {
        "colab": {
          "base_uri": "https://localhost:8080/",
          "height": 1000
        },
        "id": "ugfGMI2735Wj",
        "outputId": "d320e2c1-bab3-4b52-df63-336b878af725"
      },
      "source": [
        "# checking for outliers\n",
        "col_name= ['bathrooms','price','bedrooms','floors','sqft_living','sqft_lot', 'sqft_above', 'sqft_basement','sqft_lot15', 'sqft_living15']\n",
        "\n",
        "fig,ax = plt.subplots(len(col_name),figsize=(10,50))\n",
        "for i , col_val in enumerate(col_name):\n",
        "  sns.boxplot(y=house_df[col_val],ax=ax[i])\n",
        "  \n",
        "  ax[i].set_xlabel(col_val,fontsize=15)"
      ],
      "execution_count": null,
      "outputs": [
        {
          "output_type": "display_data",
          "data": {
            "image/png": "[encoded data removed]",
            "text/plain": [
              "<Figure size 720x3600 with 10 Axes>"
            ]
          },
          "metadata": {
            "needs_background": "light"
          }
        }
      ]
    },
    {
      "cell_type": "code",
      "metadata": {
        "colab": {
          "base_uri": "https://localhost:8080/"
        },
        "id": "epkAvm5JqazZ",
        "outputId": "3b2710f6-e28b-4fac-a829-57acf8931e38"
      },
      "source": [
        "# Dealing with the outliers\n",
        "import scipy.stats as stats\n",
        "\n",
        "#Get the z-score for our data\n",
        "z_score = np.abs(stats.zscore(house_df))\n",
        "\n",
        "#Keep the rows with a z-score less than absolute value of 2\n",
        "# \n",
        "# house_df = house_df[(z<2).all(axis=1)]\n",
        "\n",
        "#get the number of rows\n",
        "\n",
        "house_df.shape"
      ],
      "execution_count": null,
      "outputs": [
        {
          "output_type": "execute_result",
          "data": {
            "text/plain": [
              "(21610, 20)"
            ]
          },
          "metadata": {},
          "execution_count": 145
        }
      ]
    },
    {
      "cell_type": "code",
      "metadata": {
        "id": "orHSMpVovjc7"
      },
      "source": [
        "# Dropping unneccessary columns\n",
        "house_df.drop(columns=['id','grade','lat','long','sqft_basement','sqft_above'],inplace=True)"
      ],
      "execution_count": null,
      "outputs": []
    },
    {
      "cell_type": "code",
      "metadata": {
        "id": "H_zA5xvnJEuP"
      },
      "source": [
        "# Convert numerical to categorical data\n",
        "house_df=house_df.replace({'waterfront': {0 :'no', 1 :'yes'}})"
      ],
      "execution_count": null,
      "outputs": []
    },
    {
      "cell_type": "markdown",
      "metadata": {
        "id": "iG1WCIg70dwn"
      },
      "source": [
        "# EDA"
      ]
    },
    {
      "cell_type": "markdown",
      "metadata": {
        "id": "HhnqXYhJ1YG8"
      },
      "source": [
        "### Univariate analysis"
      ]
    },
    {
      "cell_type": "code",
      "metadata": {
        "colab": {
          "base_uri": "https://localhost:8080/"
        },
        "id": "KNcTotQf1jBY",
        "outputId": "9d117480-1cb1-41bc-ab07-71fb5934b873"
      },
      "source": [
        "house_df.info()"
      ],
      "execution_count": null,
      "outputs": [
        {
          "output_type": "stream",
          "name": "stdout",
          "text": [
            "<class 'pandas.core.frame.DataFrame'>\n",
            "Int64Index: 21610 entries, 0 to 21612\n",
            "Data columns (total 14 columns):\n",
            " #   Column         Non-Null Count  Dtype  \n",
            "---  ------         --------------  -----  \n",
            " 0   price          21610 non-null  float64\n",
            " 1   bedrooms       21610 non-null  int64  \n",
            " 2   bathrooms      21610 non-null  float64\n",
            " 3   sqft_living    21610 non-null  int64  \n",
            " 4   sqft_lot       21610 non-null  int64  \n",
            " 5   floors         21610 non-null  float64\n",
            " 6   waterfront     21610 non-null  int64  \n",
            " 7   view           21610 non-null  int64  \n",
            " 8   condition      21610 non-null  int64  \n",
            " 9   yr_built       21610 non-null  int64  \n",
            " 10  yr_renovated   21610 non-null  int64  \n",
            " 11  zipcode        21610 non-null  int64  \n",
            " 12  sqft_living15  21610 non-null  int64  \n",
            " 13  sqft_lot15     21610 non-null  int64  \n",
            "dtypes: float64(3), int64(11)\n",
            "memory usage: 2.5 MB\n"
          ]
        }
      ]
    },
    {
      "cell_type": "code",
      "metadata": {
        "colab": {
          "base_uri": "https://localhost:8080/",
          "height": 406
        },
        "id": "6J7ypJUv0Ode",
        "outputId": "9a0afa6f-855a-4217-f255-00ac4c7dc48b"
      },
      "source": [
        "#Univariate analysis\n",
        "# \n",
        "\n",
        "plt.figure(figsize=(10, 5))\n",
        "plt.title('Number of bedrooms')\n",
        "sns.countplot(house_df.bedrooms.dropna(), order = house_df.bedrooms.value_counts().index);"
      ],
      "execution_count": null,
      "outputs": [
        {
          "output_type": "stream",
          "name": "stderr",
          "text": [
            "/usr/local/lib/python3.7/dist-packages/seaborn/_decorators.py:43: FutureWarning: Pass the following variable as a keyword arg: x. From version 0.12, the only valid positional argument will be `data`, and passing other arguments without an explicit keyword will result in an error or misinterpretation.\n",
            "  FutureWarning\n"
          ]
        },
        {
          "output_type": "display_data",
          "data": {
            "image/png": "[encoded data removed]",
            "text/plain": [
              "<Figure size 720x360 with 1 Axes>"
            ]
          },
          "metadata": {
            "needs_background": "light"
          }
        }
      ]
    },
    {
      "cell_type": "code",
      "metadata": {
        "colab": {
          "base_uri": "https://localhost:8080/",
          "height": 406
        },
        "id": "GxNdHWsn1Jsi",
        "outputId": "f8ff422c-161c-4d22-93b3-a3bf992568ff"
      },
      "source": [
        "#Univariate analysis\n",
        "# \n",
        "\n",
        "plt.figure(figsize=(10, 5))\n",
        "plt.title('Number of bathrooms')\n",
        "sns.countplot(house_df.bathrooms.dropna(), order = house_df.bathrooms.value_counts().index);"
      ],
      "execution_count": null,
      "outputs": [
        {
          "output_type": "stream",
          "name": "stderr",
          "text": [
            "/usr/local/lib/python3.7/dist-packages/seaborn/_decorators.py:43: FutureWarning: Pass the following variable as a keyword arg: x. From version 0.12, the only valid positional argument will be `data`, and passing other arguments without an explicit keyword will result in an error or misinterpretation.\n",
            "  FutureWarning\n"
          ]
        },
        {
          "output_type": "display_data",
          "data": {
            "image/png": "[encoded data removed]",
            "text/plain": [
              "<Figure size 720x360 with 1 Axes>"
            ]
          },
          "metadata": {
            "needs_background": "light"
          }
        }
      ]
    },
    {
      "cell_type": "code",
      "metadata": {
        "colab": {
          "base_uri": "https://localhost:8080/",
          "height": 406
        },
        "id": "NRIeEI-_1cp4",
        "outputId": "fdfe9f06-03ce-4210-9eba-8d1c3a1add11"
      },
      "source": [
        "#Univariate analysis\n",
        "# \n",
        "\n",
        "plt.figure(figsize=(10, 5))\n",
        "plt.title('Number of Floors')\n",
        "sns.countplot(house_df.floors.dropna(), order = house_df.floors.value_counts().index);"
      ],
      "execution_count": null,
      "outputs": [
        {
          "output_type": "stream",
          "name": "stderr",
          "text": [
            "/usr/local/lib/python3.7/dist-packages/seaborn/_decorators.py:43: FutureWarning: Pass the following variable as a keyword arg: x. From version 0.12, the only valid positional argument will be `data`, and passing other arguments without an explicit keyword will result in an error or misinterpretation.\n",
            "  FutureWarning\n"
          ]
        },
        {
          "output_type": "display_data",
          "data": {
            "image/png": "[encoded data removed]",
            "text/plain": [
              "<Figure size 720x360 with 1 Axes>"
            ]
          },
          "metadata": {
            "needs_background": "light"
          }
        }
      ]
    },
    {
      "cell_type": "code",
      "metadata": {
        "colab": {
          "base_uri": "https://localhost:8080/",
          "height": 354
        },
        "id": "epGwLcda1yHs",
        "outputId": "32619856-7a9d-486a-a6b4-0b0cec3a9982"
      },
      "source": [
        "#Univariate analysis\n",
        "# \n",
        "\n",
        "plt.figure(figsize=(10, 5))\n",
        "plt.title('Square footage of the home')\n",
        "house_df['sqft_living'].value_counts().plot(kind = 'line', color = 'purple')\n",
        "# sns.countplot(house_df.sqft_living .dropna(), order = house_df.sqft_living .value_counts().index);"
      ],
      "execution_count": null,
      "outputs": [
        {
          "output_type": "execute_result",
          "data": {
            "text/plain": [
              "<matplotlib.axes._subplots.AxesSubplot at 0x7fcc29d9b6d0>"
            ]
          },
          "metadata": {},
          "execution_count": 127
        },
        {
          "output_type": "display_data",
          "data": {
            "image/png": "[encoded data removed]",
            "text/plain": [
              "<Figure size 720x360 with 1 Axes>"
            ]
          },
          "metadata": {
            "needs_background": "light"
          }
        }
      ]
    },
    {
      "cell_type": "code",
      "metadata": {
        "colab": {
          "base_uri": "https://localhost:8080/",
          "height": 406
        },
        "id": "zVhqcT4K2z4K",
        "outputId": "6f98eccc-9542-46d2-bcf5-b6257cb9d73a"
      },
      "source": [
        "#Univariate analysis\n",
        "# \n",
        "\n",
        "plt.figure(figsize=(10, 5))\n",
        "plt.title('House condition')\n",
        "sns.countplot(house_df.condition.dropna(), order = house_df.condition.value_counts().index);"
      ],
      "execution_count": null,
      "outputs": [
        {
          "output_type": "stream",
          "name": "stderr",
          "text": [
            "/usr/local/lib/python3.7/dist-packages/seaborn/_decorators.py:43: FutureWarning: Pass the following variable as a keyword arg: x. From version 0.12, the only valid positional argument will be `data`, and passing other arguments without an explicit keyword will result in an error or misinterpretation.\n",
            "  FutureWarning\n"
          ]
        },
        {
          "output_type": "display_data",
          "data": {
            "image/png": "[encoded data removed]",
            "text/plain": [
              "<Figure size 720x360 with 1 Axes>"
            ]
          },
          "metadata": {
            "needs_background": "light"
          }
        }
      ]
    },
    {
      "cell_type": "code",
      "metadata": {
        "colab": {
          "base_uri": "https://localhost:8080/",
          "height": 406
        },
        "id": "WdnRFj-x3KP7",
        "outputId": "b7f23129-33d3-447b-e1ee-caf3bfda0d92"
      },
      "source": [
        "#Univariate analysis\n",
        "# \n",
        "\n",
        "plt.figure(figsize=(10, 5))\n",
        "plt.title('House with a view to the waterfront')\n",
        "sns.countplot(house_df.waterfront.dropna(), order = house_df.waterfront.value_counts().index);"
      ],
      "execution_count": null,
      "outputs": [
        {
          "output_type": "stream",
          "name": "stderr",
          "text": [
            "/usr/local/lib/python3.7/dist-packages/seaborn/_decorators.py:43: FutureWarning: Pass the following variable as a keyword arg: x. From version 0.12, the only valid positional argument will be `data`, and passing other arguments without an explicit keyword will result in an error or misinterpretation.\n",
            "  FutureWarning\n"
          ]
        },
        {
          "output_type": "display_data",
          "data": {
            "image/png": "[encoded data removed]",
            "text/plain": [
              "<Figure size 720x360 with 1 Axes>"
            ]
          },
          "metadata": {
            "needs_background": "light"
          }
        }
      ]
    },
    {
      "cell_type": "markdown",
      "metadata": {
        "id": "Fr8S4rzw7TQu"
      },
      "source": [
        "From the above analysis we can observe that;\n",
        "\n",
        "*   Majority of the houses managed by Hass firm have three bedrooms.\n",
        "*   Most of the houses have a total number of 2.5 bathrooms.The .5 bathroom in my assumption is the powder room for guests.\n",
        "\n",
        "*   Most of the houses are built with one floor\n",
        "*   Majority of the houses do not have a view of the waterfront.\n",
        "\n",
        "*   The houses have house condition of 3,meaning the houses are average.\n",
        "*   Most of the houses are average in size as they sit on an average of 2400sq feet.\n",
        "\n",
        "\n",
        "\n",
        "\n"
      ]
    },
    {
      "cell_type": "markdown",
      "metadata": {
        "id": "Jt6GRoFg_rMc"
      },
      "source": [
        "### Bivariate"
      ]
    },
    {
      "cell_type": "code",
      "metadata": {
        "colab": {
          "base_uri": "https://localhost:8080/",
          "height": 508
        },
        "id": "aEfMzl_4A8dD",
        "outputId": "eb6de157-49f3-4b20-8321-4ec04f67da07"
      },
      "source": [
        "# Check for correlation\n",
        "corr = house_df.corr()\n",
        "corr"
      ],
      "execution_count": null,
      "outputs": [
        {
          "output_type": "execute_result",
          "data": {
            "text/html": [
              "<div>\n",
              "<style scoped>\n",
              "    .dataframe tbody tr th:only-of-type {\n",
              "        vertical-align: middle;\n",
              "    }\n",
              "\n",
              "    .dataframe tbody tr th {\n",
              "        vertical-align: top;\n",
              "    }\n",
              "\n",
              "    .dataframe thead th {\n",
              "        text-align: right;\n",
              "    }\n",
              "</style>\n",
              "<table border=\"1\" class=\"dataframe\">\n",
              "  <thead>\n",
              "    <tr style=\"text-align: right;\">\n",
              "      <th></th>\n",
              "      <th>price</th>\n",
              "      <th>bedrooms</th>\n",
              "      <th>bathrooms</th>\n",
              "      <th>sqft_living</th>\n",
              "      <th>sqft_lot</th>\n",
              "      <th>floors</th>\n",
              "      <th>waterfront</th>\n",
              "      <th>view</th>\n",
              "      <th>condition</th>\n",
              "      <th>yr_built</th>\n",
              "      <th>yr_renovated</th>\n",
              "      <th>zipcode</th>\n",
              "      <th>sqft_living15</th>\n",
              "      <th>sqft_lot15</th>\n",
              "    </tr>\n",
              "  </thead>\n",
              "  <tbody>\n",
              "    <tr>\n",
              "      <th>price</th>\n",
              "      <td>1.000000</td>\n",
              "      <td>0.308346</td>\n",
              "      <td>0.525140</td>\n",
              "      <td>0.702046</td>\n",
              "      <td>0.089658</td>\n",
              "      <td>0.256793</td>\n",
              "      <td>0.266332</td>\n",
              "      <td>0.397466</td>\n",
              "      <td>0.036397</td>\n",
              "      <td>0.053980</td>\n",
              "      <td>0.126503</td>\n",
              "      <td>-0.053162</td>\n",
              "      <td>0.585382</td>\n",
              "      <td>0.082457</td>\n",
              "    </tr>\n",
              "    <tr>\n",
              "      <th>bedrooms</th>\n",
              "      <td>0.308346</td>\n",
              "      <td>1.000000</td>\n",
              "      <td>0.515935</td>\n",
              "      <td>0.576674</td>\n",
              "      <td>0.031699</td>\n",
              "      <td>0.175448</td>\n",
              "      <td>-0.006583</td>\n",
              "      <td>0.079433</td>\n",
              "      <td>0.028422</td>\n",
              "      <td>0.154276</td>\n",
              "      <td>0.018695</td>\n",
              "      <td>-0.152721</td>\n",
              "      <td>0.391633</td>\n",
              "      <td>0.029233</td>\n",
              "    </tr>\n",
              "    <tr>\n",
              "      <th>bathrooms</th>\n",
              "      <td>0.525140</td>\n",
              "      <td>0.515935</td>\n",
              "      <td>1.000000</td>\n",
              "      <td>0.754688</td>\n",
              "      <td>0.087750</td>\n",
              "      <td>0.500669</td>\n",
              "      <td>0.063747</td>\n",
              "      <td>0.187891</td>\n",
              "      <td>-0.124940</td>\n",
              "      <td>0.505997</td>\n",
              "      <td>0.050879</td>\n",
              "      <td>-0.203831</td>\n",
              "      <td>0.568665</td>\n",
              "      <td>0.087191</td>\n",
              "    </tr>\n",
              "    <tr>\n",
              "      <th>sqft_living</th>\n",
              "      <td>0.702046</td>\n",
              "      <td>0.576674</td>\n",
              "      <td>0.754688</td>\n",
              "      <td>1.000000</td>\n",
              "      <td>0.172830</td>\n",
              "      <td>0.353954</td>\n",
              "      <td>0.103820</td>\n",
              "      <td>0.284641</td>\n",
              "      <td>-0.058768</td>\n",
              "      <td>0.318099</td>\n",
              "      <td>0.055314</td>\n",
              "      <td>-0.199435</td>\n",
              "      <td>0.756420</td>\n",
              "      <td>0.183285</td>\n",
              "    </tr>\n",
              "    <tr>\n",
              "      <th>sqft_lot</th>\n",
              "      <td>0.089658</td>\n",
              "      <td>0.031699</td>\n",
              "      <td>0.087750</td>\n",
              "      <td>0.172830</td>\n",
              "      <td>1.000000</td>\n",
              "      <td>-0.005171</td>\n",
              "      <td>0.021601</td>\n",
              "      <td>0.074753</td>\n",
              "      <td>-0.008967</td>\n",
              "      <td>0.053105</td>\n",
              "      <td>0.007677</td>\n",
              "      <td>-0.129611</td>\n",
              "      <td>0.144620</td>\n",
              "      <td>0.718556</td>\n",
              "    </tr>\n",
              "    <tr>\n",
              "      <th>floors</th>\n",
              "      <td>0.256793</td>\n",
              "      <td>0.175448</td>\n",
              "      <td>0.500669</td>\n",
              "      <td>0.353954</td>\n",
              "      <td>-0.005171</td>\n",
              "      <td>1.000000</td>\n",
              "      <td>0.023711</td>\n",
              "      <td>0.029325</td>\n",
              "      <td>-0.263779</td>\n",
              "      <td>0.489347</td>\n",
              "      <td>0.006156</td>\n",
              "      <td>-0.059025</td>\n",
              "      <td>0.279861</td>\n",
              "      <td>-0.011250</td>\n",
              "    </tr>\n",
              "    <tr>\n",
              "      <th>waterfront</th>\n",
              "      <td>0.266332</td>\n",
              "      <td>-0.006583</td>\n",
              "      <td>0.063747</td>\n",
              "      <td>0.103820</td>\n",
              "      <td>0.021601</td>\n",
              "      <td>0.023711</td>\n",
              "      <td>1.000000</td>\n",
              "      <td>0.401993</td>\n",
              "      <td>0.016652</td>\n",
              "      <td>-0.026159</td>\n",
              "      <td>0.092950</td>\n",
              "      <td>0.030277</td>\n",
              "      <td>0.086469</td>\n",
              "      <td>0.030702</td>\n",
              "    </tr>\n",
              "    <tr>\n",
              "      <th>view</th>\n",
              "      <td>0.397466</td>\n",
              "      <td>0.079433</td>\n",
              "      <td>0.187891</td>\n",
              "      <td>0.284641</td>\n",
              "      <td>0.074753</td>\n",
              "      <td>0.029325</td>\n",
              "      <td>0.401993</td>\n",
              "      <td>1.000000</td>\n",
              "      <td>0.045836</td>\n",
              "      <td>-0.053229</td>\n",
              "      <td>0.103208</td>\n",
              "      <td>0.084838</td>\n",
              "      <td>0.280404</td>\n",
              "      <td>0.072577</td>\n",
              "    </tr>\n",
              "    <tr>\n",
              "      <th>condition</th>\n",
              "      <td>0.036397</td>\n",
              "      <td>0.028422</td>\n",
              "      <td>-0.124940</td>\n",
              "      <td>-0.058768</td>\n",
              "      <td>-0.008967</td>\n",
              "      <td>-0.263779</td>\n",
              "      <td>0.016652</td>\n",
              "      <td>0.045836</td>\n",
              "      <td>1.000000</td>\n",
              "      <td>-0.361347</td>\n",
              "      <td>-0.060862</td>\n",
              "      <td>0.002962</td>\n",
              "      <td>-0.092854</td>\n",
              "      <td>-0.003424</td>\n",
              "    </tr>\n",
              "    <tr>\n",
              "      <th>yr_built</th>\n",
              "      <td>0.053980</td>\n",
              "      <td>0.154276</td>\n",
              "      <td>0.505997</td>\n",
              "      <td>0.318099</td>\n",
              "      <td>0.053105</td>\n",
              "      <td>0.489347</td>\n",
              "      <td>-0.026159</td>\n",
              "      <td>-0.053229</td>\n",
              "      <td>-0.361347</td>\n",
              "      <td>1.000000</td>\n",
              "      <td>-0.224729</td>\n",
              "      <td>-0.346808</td>\n",
              "      <td>0.326298</td>\n",
              "      <td>0.070999</td>\n",
              "    </tr>\n",
              "    <tr>\n",
              "      <th>yr_renovated</th>\n",
              "      <td>0.126503</td>\n",
              "      <td>0.018695</td>\n",
              "      <td>0.050879</td>\n",
              "      <td>0.055314</td>\n",
              "      <td>0.007677</td>\n",
              "      <td>0.006156</td>\n",
              "      <td>0.092950</td>\n",
              "      <td>0.103208</td>\n",
              "      <td>-0.060862</td>\n",
              "      <td>-0.224729</td>\n",
              "      <td>1.000000</td>\n",
              "      <td>0.064388</td>\n",
              "      <td>-0.002841</td>\n",
              "      <td>0.007837</td>\n",
              "    </tr>\n",
              "    <tr>\n",
              "      <th>zipcode</th>\n",
              "      <td>-0.053162</td>\n",
              "      <td>-0.152721</td>\n",
              "      <td>-0.203831</td>\n",
              "      <td>-0.199435</td>\n",
              "      <td>-0.129611</td>\n",
              "      <td>-0.059025</td>\n",
              "      <td>0.030277</td>\n",
              "      <td>0.084838</td>\n",
              "      <td>0.002962</td>\n",
              "      <td>-0.346808</td>\n",
              "      <td>0.064388</td>\n",
              "      <td>1.000000</td>\n",
              "      <td>-0.279033</td>\n",
              "      <td>-0.147257</td>\n",
              "    </tr>\n",
              "    <tr>\n",
              "      <th>sqft_living15</th>\n",
              "      <td>0.585382</td>\n",
              "      <td>0.391633</td>\n",
              "      <td>0.568665</td>\n",
              "      <td>0.756420</td>\n",
              "      <td>0.144620</td>\n",
              "      <td>0.279861</td>\n",
              "      <td>0.086469</td>\n",
              "      <td>0.280404</td>\n",
              "      <td>-0.092854</td>\n",
              "      <td>0.326298</td>\n",
              "      <td>-0.002841</td>\n",
              "      <td>-0.279033</td>\n",
              "      <td>1.000000</td>\n",
              "      <td>0.183194</td>\n",
              "    </tr>\n",
              "    <tr>\n",
              "      <th>sqft_lot15</th>\n",
              "      <td>0.082457</td>\n",
              "      <td>0.029233</td>\n",
              "      <td>0.087191</td>\n",
              "      <td>0.183285</td>\n",
              "      <td>0.718556</td>\n",
              "      <td>-0.011250</td>\n",
              "      <td>0.030702</td>\n",
              "      <td>0.072577</td>\n",
              "      <td>-0.003424</td>\n",
              "      <td>0.070999</td>\n",
              "      <td>0.007837</td>\n",
              "      <td>-0.147257</td>\n",
              "      <td>0.183194</td>\n",
              "      <td>1.000000</td>\n",
              "    </tr>\n",
              "  </tbody>\n",
              "</table>\n",
              "</div>"
            ],
            "text/plain": [
              "                  price  bedrooms  ...  sqft_living15  sqft_lot15\n",
              "price          1.000000  0.308346  ...       0.585382    0.082457\n",
              "bedrooms       0.308346  1.000000  ...       0.391633    0.029233\n",
              "bathrooms      0.525140  0.515935  ...       0.568665    0.087191\n",
              "sqft_living    0.702046  0.576674  ...       0.756420    0.183285\n",
              "sqft_lot       0.089658  0.031699  ...       0.144620    0.718556\n",
              "floors         0.256793  0.175448  ...       0.279861   -0.011250\n",
              "waterfront     0.266332 -0.006583  ...       0.086469    0.030702\n",
              "view           0.397466  0.079433  ...       0.280404    0.072577\n",
              "condition      0.036397  0.028422  ...      -0.092854   -0.003424\n",
              "yr_built       0.053980  0.154276  ...       0.326298    0.070999\n",
              "yr_renovated   0.126503  0.018695  ...      -0.002841    0.007837\n",
              "zipcode       -0.053162 -0.152721  ...      -0.279033   -0.147257\n",
              "sqft_living15  0.585382  0.391633  ...       1.000000    0.183194\n",
              "sqft_lot15     0.082457  0.029233  ...       0.183194    1.000000\n",
              "\n",
              "[14 rows x 14 columns]"
            ]
          },
          "metadata": {},
          "execution_count": 152
        }
      ]
    },
    {
      "cell_type": "code",
      "metadata": {
        "colab": {
          "base_uri": "https://localhost:8080/",
          "height": 651
        },
        "id": "UT3XuFwVBnTe",
        "outputId": "4066c5d6-797c-4f9b-9927-b84fe04d545c"
      },
      "source": [
        "# Plot a heatmap to identify correlation\n",
        "plt.figure(figsize = (10, 10))\n",
        "sns.heatmap(house_df.corr(), xticklabels = house_df.corr().columns, yticklabels = house_df.corr().columns, annot=True)\n",
        "plt.show()"
      ],
      "execution_count": null,
      "outputs": [
        {
          "output_type": "display_data",
          "data": {
            "image/png": "[encoded data removed]",
            "text/plain": [
              "<Figure size 720x720 with 2 Axes>"
            ]
          },
          "metadata": {
            "needs_background": "light"
          }
        }
      ]
    },
    {
      "cell_type": "markdown",
      "metadata": {
        "id": "F7T69TA7GG92"
      },
      "source": [
        "## Check for collinearity"
      ]
    },
    {
      "cell_type": "code",
      "metadata": {
        "colab": {
          "base_uri": "https://localhost:8080/",
          "height": 425
        },
        "id": "KaLkT2AqEWaL",
        "outputId": "197125ef-3c22-4741-b287-bc2e3dedd3ac"
      },
      "source": [
        "# Check for collinearity\n",
        "corr = house_df.drop('price', axis = 1).corr()\n",
        "corr"
      ],
      "execution_count": null,
      "outputs": [
        {
          "output_type": "execute_result",
          "data": {
            "text/html": [
              "<div>\n",
              "<style scoped>\n",
              "    .dataframe tbody tr th:only-of-type {\n",
              "        vertical-align: middle;\n",
              "    }\n",
              "\n",
              "    .dataframe tbody tr th {\n",
              "        vertical-align: top;\n",
              "    }\n",
              "\n",
              "    .dataframe thead th {\n",
              "        text-align: right;\n",
              "    }\n",
              "</style>\n",
              "<table border=\"1\" class=\"dataframe\">\n",
              "  <thead>\n",
              "    <tr style=\"text-align: right;\">\n",
              "      <th></th>\n",
              "      <th>bedrooms</th>\n",
              "      <th>bathrooms</th>\n",
              "      <th>sqft_living</th>\n",
              "      <th>sqft_lot</th>\n",
              "      <th>floors</th>\n",
              "      <th>view</th>\n",
              "      <th>condition</th>\n",
              "      <th>yr_built</th>\n",
              "      <th>yr_renovated</th>\n",
              "      <th>zipcode</th>\n",
              "      <th>sqft_living15</th>\n",
              "      <th>sqft_lot15</th>\n",
              "    </tr>\n",
              "  </thead>\n",
              "  <tbody>\n",
              "    <tr>\n",
              "      <th>bedrooms</th>\n",
              "      <td>1.000000</td>\n",
              "      <td>0.515935</td>\n",
              "      <td>0.576674</td>\n",
              "      <td>0.031699</td>\n",
              "      <td>0.175448</td>\n",
              "      <td>0.079433</td>\n",
              "      <td>0.028422</td>\n",
              "      <td>0.154276</td>\n",
              "      <td>0.018695</td>\n",
              "      <td>-0.152721</td>\n",
              "      <td>0.391633</td>\n",
              "      <td>0.029233</td>\n",
              "    </tr>\n",
              "    <tr>\n",
              "      <th>bathrooms</th>\n",
              "      <td>0.515935</td>\n",
              "      <td>1.000000</td>\n",
              "      <td>0.754688</td>\n",
              "      <td>0.087750</td>\n",
              "      <td>0.500669</td>\n",
              "      <td>0.187891</td>\n",
              "      <td>-0.124940</td>\n",
              "      <td>0.505997</td>\n",
              "      <td>0.050879</td>\n",
              "      <td>-0.203831</td>\n",
              "      <td>0.568665</td>\n",
              "      <td>0.087191</td>\n",
              "    </tr>\n",
              "    <tr>\n",
              "      <th>sqft_living</th>\n",
              "      <td>0.576674</td>\n",
              "      <td>0.754688</td>\n",
              "      <td>1.000000</td>\n",
              "      <td>0.172830</td>\n",
              "      <td>0.353954</td>\n",
              "      <td>0.284641</td>\n",
              "      <td>-0.058768</td>\n",
              "      <td>0.318099</td>\n",
              "      <td>0.055314</td>\n",
              "      <td>-0.199435</td>\n",
              "      <td>0.756420</td>\n",
              "      <td>0.183285</td>\n",
              "    </tr>\n",
              "    <tr>\n",
              "      <th>sqft_lot</th>\n",
              "      <td>0.031699</td>\n",
              "      <td>0.087750</td>\n",
              "      <td>0.172830</td>\n",
              "      <td>1.000000</td>\n",
              "      <td>-0.005171</td>\n",
              "      <td>0.074753</td>\n",
              "      <td>-0.008967</td>\n",
              "      <td>0.053105</td>\n",
              "      <td>0.007677</td>\n",
              "      <td>-0.129611</td>\n",
              "      <td>0.144620</td>\n",
              "      <td>0.718556</td>\n",
              "    </tr>\n",
              "    <tr>\n",
              "      <th>floors</th>\n",
              "      <td>0.175448</td>\n",
              "      <td>0.500669</td>\n",
              "      <td>0.353954</td>\n",
              "      <td>-0.005171</td>\n",
              "      <td>1.000000</td>\n",
              "      <td>0.029325</td>\n",
              "      <td>-0.263779</td>\n",
              "      <td>0.489347</td>\n",
              "      <td>0.006156</td>\n",
              "      <td>-0.059025</td>\n",
              "      <td>0.279861</td>\n",
              "      <td>-0.011250</td>\n",
              "    </tr>\n",
              "    <tr>\n",
              "      <th>view</th>\n",
              "      <td>0.079433</td>\n",
              "      <td>0.187891</td>\n",
              "      <td>0.284641</td>\n",
              "      <td>0.074753</td>\n",
              "      <td>0.029325</td>\n",
              "      <td>1.000000</td>\n",
              "      <td>0.045836</td>\n",
              "      <td>-0.053229</td>\n",
              "      <td>0.103208</td>\n",
              "      <td>0.084838</td>\n",
              "      <td>0.280404</td>\n",
              "      <td>0.072577</td>\n",
              "    </tr>\n",
              "    <tr>\n",
              "      <th>condition</th>\n",
              "      <td>0.028422</td>\n",
              "      <td>-0.124940</td>\n",
              "      <td>-0.058768</td>\n",
              "      <td>-0.008967</td>\n",
              "      <td>-0.263779</td>\n",
              "      <td>0.045836</td>\n",
              "      <td>1.000000</td>\n",
              "      <td>-0.361347</td>\n",
              "      <td>-0.060862</td>\n",
              "      <td>0.002962</td>\n",
              "      <td>-0.092854</td>\n",
              "      <td>-0.003424</td>\n",
              "    </tr>\n",
              "    <tr>\n",
              "      <th>yr_built</th>\n",
              "      <td>0.154276</td>\n",
              "      <td>0.505997</td>\n",
              "      <td>0.318099</td>\n",
              "      <td>0.053105</td>\n",
              "      <td>0.489347</td>\n",
              "      <td>-0.053229</td>\n",
              "      <td>-0.361347</td>\n",
              "      <td>1.000000</td>\n",
              "      <td>-0.224729</td>\n",
              "      <td>-0.346808</td>\n",
              "      <td>0.326298</td>\n",
              "      <td>0.070999</td>\n",
              "    </tr>\n",
              "    <tr>\n",
              "      <th>yr_renovated</th>\n",
              "      <td>0.018695</td>\n",
              "      <td>0.050879</td>\n",
              "      <td>0.055314</td>\n",
              "      <td>0.007677</td>\n",
              "      <td>0.006156</td>\n",
              "      <td>0.103208</td>\n",
              "      <td>-0.060862</td>\n",
              "      <td>-0.224729</td>\n",
              "      <td>1.000000</td>\n",
              "      <td>0.064388</td>\n",
              "      <td>-0.002841</td>\n",
              "      <td>0.007837</td>\n",
              "    </tr>\n",
              "    <tr>\n",
              "      <th>zipcode</th>\n",
              "      <td>-0.152721</td>\n",
              "      <td>-0.203831</td>\n",
              "      <td>-0.199435</td>\n",
              "      <td>-0.129611</td>\n",
              "      <td>-0.059025</td>\n",
              "      <td>0.084838</td>\n",
              "      <td>0.002962</td>\n",
              "      <td>-0.346808</td>\n",
              "      <td>0.064388</td>\n",
              "      <td>1.000000</td>\n",
              "      <td>-0.279033</td>\n",
              "      <td>-0.147257</td>\n",
              "    </tr>\n",
              "    <tr>\n",
              "      <th>sqft_living15</th>\n",
              "      <td>0.391633</td>\n",
              "      <td>0.568665</td>\n",
              "      <td>0.756420</td>\n",
              "      <td>0.144620</td>\n",
              "      <td>0.279861</td>\n",
              "      <td>0.280404</td>\n",
              "      <td>-0.092854</td>\n",
              "      <td>0.326298</td>\n",
              "      <td>-0.002841</td>\n",
              "      <td>-0.279033</td>\n",
              "      <td>1.000000</td>\n",
              "      <td>0.183194</td>\n",
              "    </tr>\n",
              "    <tr>\n",
              "      <th>sqft_lot15</th>\n",
              "      <td>0.029233</td>\n",
              "      <td>0.087191</td>\n",
              "      <td>0.183285</td>\n",
              "      <td>0.718556</td>\n",
              "      <td>-0.011250</td>\n",
              "      <td>0.072577</td>\n",
              "      <td>-0.003424</td>\n",
              "      <td>0.070999</td>\n",
              "      <td>0.007837</td>\n",
              "      <td>-0.147257</td>\n",
              "      <td>0.183194</td>\n",
              "      <td>1.000000</td>\n",
              "    </tr>\n",
              "  </tbody>\n",
              "</table>\n",
              "</div>"
            ],
            "text/plain": [
              "               bedrooms  bathrooms  ...  sqft_living15  sqft_lot15\n",
              "bedrooms       1.000000   0.515935  ...       0.391633    0.029233\n",
              "bathrooms      0.515935   1.000000  ...       0.568665    0.087191\n",
              "sqft_living    0.576674   0.754688  ...       0.756420    0.183285\n",
              "sqft_lot       0.031699   0.087750  ...       0.144620    0.718556\n",
              "floors         0.175448   0.500669  ...       0.279861   -0.011250\n",
              "view           0.079433   0.187891  ...       0.280404    0.072577\n",
              "condition      0.028422  -0.124940  ...      -0.092854   -0.003424\n",
              "yr_built       0.154276   0.505997  ...       0.326298    0.070999\n",
              "yr_renovated   0.018695   0.050879  ...      -0.002841    0.007837\n",
              "zipcode       -0.152721  -0.203831  ...      -0.279033   -0.147257\n",
              "sqft_living15  0.391633   0.568665  ...       1.000000    0.183194\n",
              "sqft_lot15     0.029233   0.087191  ...       0.183194    1.000000\n",
              "\n",
              "[12 rows x 12 columns]"
            ]
          },
          "metadata": {},
          "execution_count": 162
        }
      ]
    },
    {
      "cell_type": "code",
      "metadata": {
        "colab": {
          "base_uri": "https://localhost:8080/",
          "height": 425
        },
        "id": "3BZpJNMQEkPt",
        "outputId": "cb3e0431-e11a-4b7a-e5fd-dbd3824987a3"
      },
      "source": [
        "# Calculating VIF; Variance Inflation Factor\n",
        "vif_df = pd.DataFrame(np.linalg.inv(corr.values), index = corr.index, columns = corr.columns)\n",
        "vif_df"
      ],
      "execution_count": null,
      "outputs": [
        {
          "output_type": "execute_result",
          "data": {
            "text/html": [
              "<div>\n",
              "<style scoped>\n",
              "    .dataframe tbody tr th:only-of-type {\n",
              "        vertical-align: middle;\n",
              "    }\n",
              "\n",
              "    .dataframe tbody tr th {\n",
              "        vertical-align: top;\n",
              "    }\n",
              "\n",
              "    .dataframe thead th {\n",
              "        text-align: right;\n",
              "    }\n",
              "</style>\n",
              "<table border=\"1\" class=\"dataframe\">\n",
              "  <thead>\n",
              "    <tr style=\"text-align: right;\">\n",
              "      <th></th>\n",
              "      <th>bedrooms</th>\n",
              "      <th>bathrooms</th>\n",
              "      <th>sqft_living</th>\n",
              "      <th>sqft_lot</th>\n",
              "      <th>floors</th>\n",
              "      <th>view</th>\n",
              "      <th>condition</th>\n",
              "      <th>yr_built</th>\n",
              "      <th>yr_renovated</th>\n",
              "      <th>zipcode</th>\n",
              "      <th>sqft_living15</th>\n",
              "      <th>sqft_lot15</th>\n",
              "    </tr>\n",
              "  </thead>\n",
              "  <tbody>\n",
              "    <tr>\n",
              "      <th>bedrooms</th>\n",
              "      <td>1.615186</td>\n",
              "      <td>-0.441135</td>\n",
              "      <td>-0.834855</td>\n",
              "      <td>0.050481</td>\n",
              "      <td>0.101179</td>\n",
              "      <td>0.143260</td>\n",
              "      <td>-0.051654</td>\n",
              "      <td>0.174669</td>\n",
              "      <td>0.052439</td>\n",
              "      <td>0.094027</td>\n",
              "      <td>0.124542</td>\n",
              "      <td>0.076773</td>\n",
              "    </tr>\n",
              "    <tr>\n",
              "      <th>bathrooms</th>\n",
              "      <td>-0.441135</td>\n",
              "      <td>3.241171</td>\n",
              "      <td>-1.791954</td>\n",
              "      <td>-0.000548</td>\n",
              "      <td>-0.531220</td>\n",
              "      <td>-0.099800</td>\n",
              "      <td>-0.161767</td>\n",
              "      <td>-0.924280</td>\n",
              "      <td>-0.259203</td>\n",
              "      <td>-0.043002</td>\n",
              "      <td>0.117401</td>\n",
              "      <td>0.099654</td>\n",
              "    </tr>\n",
              "    <tr>\n",
              "      <th>sqft_living</th>\n",
              "      <td>-0.834855</td>\n",
              "      <td>-1.791954</td>\n",
              "      <td>4.326516</td>\n",
              "      <td>-0.199779</td>\n",
              "      <td>-0.106392</td>\n",
              "      <td>-0.239451</td>\n",
              "      <td>-0.042038</td>\n",
              "      <td>0.281464</td>\n",
              "      <td>-0.043395</td>\n",
              "      <td>-0.090845</td>\n",
              "      <td>-1.896755</td>\n",
              "      <td>-0.138295</td>\n",
              "    </tr>\n",
              "    <tr>\n",
              "      <th>sqft_lot</th>\n",
              "      <td>0.050481</td>\n",
              "      <td>-0.000548</td>\n",
              "      <td>-0.199779</td>\n",
              "      <td>2.085543</td>\n",
              "      <td>0.017517</td>\n",
              "      <td>-0.035403</td>\n",
              "      <td>0.033401</td>\n",
              "      <td>0.042494</td>\n",
              "      <td>0.016594</td>\n",
              "      <td>0.070416</td>\n",
              "      <td>0.114065</td>\n",
              "      <td>-1.474184</td>\n",
              "    </tr>\n",
              "    <tr>\n",
              "      <th>floors</th>\n",
              "      <td>0.101179</td>\n",
              "      <td>-0.531220</td>\n",
              "      <td>-0.106392</td>\n",
              "      <td>0.017517</td>\n",
              "      <td>1.562542</td>\n",
              "      <td>0.059416</td>\n",
              "      <td>0.145678</td>\n",
              "      <td>-0.510568</td>\n",
              "      <td>-0.079340</td>\n",
              "      <td>-0.185886</td>\n",
              "      <td>0.001043</td>\n",
              "      <td>0.073346</td>\n",
              "    </tr>\n",
              "    <tr>\n",
              "      <th>view</th>\n",
              "      <td>0.143260</td>\n",
              "      <td>-0.099800</td>\n",
              "      <td>-0.239451</td>\n",
              "      <td>-0.035403</td>\n",
              "      <td>0.059416</td>\n",
              "      <td>1.178490</td>\n",
              "      <td>-0.049124</td>\n",
              "      <td>0.131619</td>\n",
              "      <td>-0.069420</td>\n",
              "      <td>-0.167907</td>\n",
              "      <td>-0.255116</td>\n",
              "      <td>0.002019</td>\n",
              "    </tr>\n",
              "    <tr>\n",
              "      <th>condition</th>\n",
              "      <td>-0.051654</td>\n",
              "      <td>-0.161767</td>\n",
              "      <td>-0.042038</td>\n",
              "      <td>0.033401</td>\n",
              "      <td>0.145678</td>\n",
              "      <td>-0.049124</td>\n",
              "      <td>1.238627</td>\n",
              "      <td>0.547294</td>\n",
              "      <td>0.203679</td>\n",
              "      <td>0.164975</td>\n",
              "      <td>0.099945</td>\n",
              "      <td>-0.025704</td>\n",
              "    </tr>\n",
              "    <tr>\n",
              "      <th>yr_built</th>\n",
              "      <td>0.174669</td>\n",
              "      <td>-0.924280</td>\n",
              "      <td>0.281464</td>\n",
              "      <td>0.042494</td>\n",
              "      <td>-0.510568</td>\n",
              "      <td>0.131619</td>\n",
              "      <td>0.547294</td>\n",
              "      <td>2.148848</td>\n",
              "      <td>0.500429</td>\n",
              "      <td>0.518265</td>\n",
              "      <td>-0.146743</td>\n",
              "      <td>-0.073348</td>\n",
              "    </tr>\n",
              "    <tr>\n",
              "      <th>yr_renovated</th>\n",
              "      <td>0.052439</td>\n",
              "      <td>-0.259203</td>\n",
              "      <td>-0.043395</td>\n",
              "      <td>0.016594</td>\n",
              "      <td>-0.079340</td>\n",
              "      <td>-0.069420</td>\n",
              "      <td>0.203679</td>\n",
              "      <td>0.500429</td>\n",
              "      <td>1.143060</td>\n",
              "      <td>0.068013</td>\n",
              "      <td>0.081849</td>\n",
              "      <td>-0.027526</td>\n",
              "    </tr>\n",
              "    <tr>\n",
              "      <th>zipcode</th>\n",
              "      <td>0.094027</td>\n",
              "      <td>-0.043002</td>\n",
              "      <td>-0.090845</td>\n",
              "      <td>0.070416</td>\n",
              "      <td>-0.185886</td>\n",
              "      <td>-0.167907</td>\n",
              "      <td>0.164975</td>\n",
              "      <td>0.518265</td>\n",
              "      <td>0.068013</td>\n",
              "      <td>1.278406</td>\n",
              "      <td>0.336101</td>\n",
              "      <td>0.067067</td>\n",
              "    </tr>\n",
              "    <tr>\n",
              "      <th>sqft_living15</th>\n",
              "      <td>0.124542</td>\n",
              "      <td>0.117401</td>\n",
              "      <td>-1.896755</td>\n",
              "      <td>0.114065</td>\n",
              "      <td>0.001043</td>\n",
              "      <td>-0.255116</td>\n",
              "      <td>0.099945</td>\n",
              "      <td>-0.146743</td>\n",
              "      <td>0.081849</td>\n",
              "      <td>0.336101</td>\n",
              "      <td>2.550274</td>\n",
              "      <td>-0.137248</td>\n",
              "    </tr>\n",
              "    <tr>\n",
              "      <th>sqft_lot15</th>\n",
              "      <td>0.076773</td>\n",
              "      <td>0.099654</td>\n",
              "      <td>-0.138295</td>\n",
              "      <td>-1.474184</td>\n",
              "      <td>0.073346</td>\n",
              "      <td>0.002019</td>\n",
              "      <td>-0.025704</td>\n",
              "      <td>-0.073348</td>\n",
              "      <td>-0.027526</td>\n",
              "      <td>0.067067</td>\n",
              "      <td>-0.137248</td>\n",
              "      <td>2.114731</td>\n",
              "    </tr>\n",
              "  </tbody>\n",
              "</table>\n",
              "</div>"
            ],
            "text/plain": [
              "               bedrooms  bathrooms  ...  sqft_living15  sqft_lot15\n",
              "bedrooms       1.615186  -0.441135  ...       0.124542    0.076773\n",
              "bathrooms     -0.441135   3.241171  ...       0.117401    0.099654\n",
              "sqft_living   -0.834855  -1.791954  ...      -1.896755   -0.138295\n",
              "sqft_lot       0.050481  -0.000548  ...       0.114065   -1.474184\n",
              "floors         0.101179  -0.531220  ...       0.001043    0.073346\n",
              "view           0.143260  -0.099800  ...      -0.255116    0.002019\n",
              "condition     -0.051654  -0.161767  ...       0.099945   -0.025704\n",
              "yr_built       0.174669  -0.924280  ...      -0.146743   -0.073348\n",
              "yr_renovated   0.052439  -0.259203  ...       0.081849   -0.027526\n",
              "zipcode        0.094027  -0.043002  ...       0.336101    0.067067\n",
              "sqft_living15  0.124542   0.117401  ...       2.550274   -0.137248\n",
              "sqft_lot15     0.076773   0.099654  ...      -0.137248    2.114731\n",
              "\n",
              "[12 rows x 12 columns]"
            ]
          },
          "metadata": {},
          "execution_count": 163
        }
      ]
    },
    {
      "cell_type": "markdown",
      "metadata": {
        "id": "Ps5xNgrLHxYa"
      },
      "source": [
        "### Multiple Linear Regression\n"
      ]
    },
    {
      "cell_type": "code",
      "metadata": {
        "id": "2jiZcIB7GDuE"
      },
      "source": [
        "# Creating X and y variables\n",
        "#\n",
        "X = house_df[['bedrooms', 'bathrooms', 'sqft_living', 'sqft_lot','floors','view',\n",
        "       'condition', 'yr_built', 'yr_renovated', 'zipcode',\n",
        "        'sqft_living15', 'sqft_lot15']]\n",
        "y = house_df.price\n",
        "\n",
        "# Encode(one hot encoding) categorical variables\n",
        "#\n",
        "X = pd.get_dummies(X, drop_first=True)\n",
        "\n",
        "# Set train and testing set\n",
        "from sklearn.model_selection import train_test_split\n",
        "X_train, X_test, y_train, y_test = train_test_split(X, y, test_size = 0.3, random_state = 10)\n",
        "\n",
        "# Training the model\n",
        "from sklearn.linear_model import LinearRegression\n",
        "regressor = LinearRegression()\n",
        "regressor.fit(X_train, y_train)\n",
        "from sklearn.metrics import mean_squared_error,r2_score\n",
        "regressor = LinearRegression()  \n",
        "regressor.fit(X_train, y_train)\n",
        "\n",
        "# Make predictions\n",
        "#\n",
        "y_pred = regressor.predict(X_test)"
      ],
      "execution_count": null,
      "outputs": []
    },
    {
      "cell_type": "code",
      "metadata": {
        "colab": {
          "base_uri": "https://localhost:8080/"
        },
        "id": "JPCtXRX1YhRy",
        "outputId": "f4c61f5c-4e66-412e-ee21-2cc5c75efd55"
      },
      "source": [
        "regressor.coef_"
      ],
      "execution_count": null,
      "outputs": [
        {
          "output_type": "execute_result",
          "data": {
            "text/plain": [
              "array([-6.08801583e+04,  6.71464764e+04,  2.32389811e+02, -1.05278448e-01,\n",
              "        5.72960297e+04,  7.28487967e+04,  2.21915099e+04, -2.91093040e+03,\n",
              "        2.11693722e+01,  6.01271881e+01,  7.84377589e+01, -6.66581798e-01])"
            ]
          },
          "metadata": {},
          "execution_count": 202
        }
      ]
    },
    {
      "cell_type": "code",
      "metadata": {
        "colab": {
          "base_uri": "https://localhost:8080/",
          "height": 425
        },
        "id": "BBKV0Hn2W03V",
        "outputId": "86a6194c-555b-46b9-a52e-e6a066b4b346"
      },
      "source": [
        "coeff_df = pd.DataFrame(regressor.coef_, X.columns, columns=['Coefficient'])\n",
        "coeff_df"
      ],
      "execution_count": null,
      "outputs": [
        {
          "output_type": "execute_result",
          "data": {
            "text/html": [
              "<div>\n",
              "<style scoped>\n",
              "    .dataframe tbody tr th:only-of-type {\n",
              "        vertical-align: middle;\n",
              "    }\n",
              "\n",
              "    .dataframe tbody tr th {\n",
              "        vertical-align: top;\n",
              "    }\n",
              "\n",
              "    .dataframe thead th {\n",
              "        text-align: right;\n",
              "    }\n",
              "</style>\n",
              "<table border=\"1\" class=\"dataframe\">\n",
              "  <thead>\n",
              "    <tr style=\"text-align: right;\">\n",
              "      <th></th>\n",
              "      <th>Coefficient</th>\n",
              "    </tr>\n",
              "  </thead>\n",
              "  <tbody>\n",
              "    <tr>\n",
              "      <th>bedrooms</th>\n",
              "      <td>-60880.158311</td>\n",
              "    </tr>\n",
              "    <tr>\n",
              "      <th>bathrooms</th>\n",
              "      <td>67146.476371</td>\n",
              "    </tr>\n",
              "    <tr>\n",
              "      <th>sqft_living</th>\n",
              "      <td>232.389811</td>\n",
              "    </tr>\n",
              "    <tr>\n",
              "      <th>sqft_lot</th>\n",
              "      <td>-0.105278</td>\n",
              "    </tr>\n",
              "    <tr>\n",
              "      <th>floors</th>\n",
              "      <td>57296.029703</td>\n",
              "    </tr>\n",
              "    <tr>\n",
              "      <th>view</th>\n",
              "      <td>72848.796708</td>\n",
              "    </tr>\n",
              "    <tr>\n",
              "      <th>condition</th>\n",
              "      <td>22191.509883</td>\n",
              "    </tr>\n",
              "    <tr>\n",
              "      <th>yr_built</th>\n",
              "      <td>-2910.930401</td>\n",
              "    </tr>\n",
              "    <tr>\n",
              "      <th>yr_renovated</th>\n",
              "      <td>21.169372</td>\n",
              "    </tr>\n",
              "    <tr>\n",
              "      <th>zipcode</th>\n",
              "      <td>60.127188</td>\n",
              "    </tr>\n",
              "    <tr>\n",
              "      <th>sqft_living15</th>\n",
              "      <td>78.437759</td>\n",
              "    </tr>\n",
              "    <tr>\n",
              "      <th>sqft_lot15</th>\n",
              "      <td>-0.666582</td>\n",
              "    </tr>\n",
              "  </tbody>\n",
              "</table>\n",
              "</div>"
            ],
            "text/plain": [
              "                Coefficient\n",
              "bedrooms      -60880.158311\n",
              "bathrooms      67146.476371\n",
              "sqft_living      232.389811\n",
              "sqft_lot          -0.105278\n",
              "floors         57296.029703\n",
              "view           72848.796708\n",
              "condition      22191.509883\n",
              "yr_built       -2910.930401\n",
              "yr_renovated      21.169372\n",
              "zipcode           60.127188\n",
              "sqft_living15     78.437759\n",
              "sqft_lot15        -0.666582"
            ]
          },
          "metadata": {},
          "execution_count": 198
        }
      ]
    },
    {
      "cell_type": "code",
      "metadata": {
        "colab": {
          "base_uri": "https://localhost:8080/",
          "height": 423
        },
        "id": "mlf6bk9gW_5w",
        "outputId": "cc03ec4a-a5b7-42e5-ec62-60835925f38f"
      },
      "source": [
        "house_df = pd.DataFrame({'Actual': y_test, 'Predicted': y_pred})\n",
        "house_df"
      ],
      "execution_count": null,
      "outputs": [
        {
          "output_type": "execute_result",
          "data": {
            "text/html": [
              "<div>\n",
              "<style scoped>\n",
              "    .dataframe tbody tr th:only-of-type {\n",
              "        vertical-align: middle;\n",
              "    }\n",
              "\n",
              "    .dataframe tbody tr th {\n",
              "        vertical-align: top;\n",
              "    }\n",
              "\n",
              "    .dataframe thead th {\n",
              "        text-align: right;\n",
              "    }\n",
              "</style>\n",
              "<table border=\"1\" class=\"dataframe\">\n",
              "  <thead>\n",
              "    <tr style=\"text-align: right;\">\n",
              "      <th></th>\n",
              "      <th>Actual</th>\n",
              "      <th>Predicted</th>\n",
              "    </tr>\n",
              "  </thead>\n",
              "  <tbody>\n",
              "    <tr>\n",
              "      <th>20188</th>\n",
              "      <td>602000.0</td>\n",
              "      <td>402235.374352</td>\n",
              "    </tr>\n",
              "    <tr>\n",
              "      <th>7573</th>\n",
              "      <td>320000.0</td>\n",
              "      <td>340896.589221</td>\n",
              "    </tr>\n",
              "    <tr>\n",
              "      <th>12873</th>\n",
              "      <td>245000.0</td>\n",
              "      <td>312400.977373</td>\n",
              "    </tr>\n",
              "    <tr>\n",
              "      <th>209</th>\n",
              "      <td>464000.0</td>\n",
              "      <td>660211.442450</td>\n",
              "    </tr>\n",
              "    <tr>\n",
              "      <th>19155</th>\n",
              "      <td>190000.0</td>\n",
              "      <td>371377.624986</td>\n",
              "    </tr>\n",
              "    <tr>\n",
              "      <th>...</th>\n",
              "      <td>...</td>\n",
              "      <td>...</td>\n",
              "    </tr>\n",
              "    <tr>\n",
              "      <th>18066</th>\n",
              "      <td>589000.0</td>\n",
              "      <td>722421.822031</td>\n",
              "    </tr>\n",
              "    <tr>\n",
              "      <th>13241</th>\n",
              "      <td>299000.0</td>\n",
              "      <td>369184.928506</td>\n",
              "    </tr>\n",
              "    <tr>\n",
              "      <th>8864</th>\n",
              "      <td>281000.0</td>\n",
              "      <td>448276.472505</td>\n",
              "    </tr>\n",
              "    <tr>\n",
              "      <th>5099</th>\n",
              "      <td>1150000.0</td>\n",
              "      <td>730910.546394</td>\n",
              "    </tr>\n",
              "    <tr>\n",
              "      <th>8351</th>\n",
              "      <td>510000.0</td>\n",
              "      <td>472504.443176</td>\n",
              "    </tr>\n",
              "  </tbody>\n",
              "</table>\n",
              "<p>6483 rows × 2 columns</p>\n",
              "</div>"
            ],
            "text/plain": [
              "          Actual      Predicted\n",
              "20188   602000.0  402235.374352\n",
              "7573    320000.0  340896.589221\n",
              "12873   245000.0  312400.977373\n",
              "209     464000.0  660211.442450\n",
              "19155   190000.0  371377.624986\n",
              "...          ...            ...\n",
              "18066   589000.0  722421.822031\n",
              "13241   299000.0  369184.928506\n",
              "8864    281000.0  448276.472505\n",
              "5099   1150000.0  730910.546394\n",
              "8351    510000.0  472504.443176\n",
              "\n",
              "[6483 rows x 2 columns]"
            ]
          },
          "metadata": {},
          "execution_count": 199
        }
      ]
    },
    {
      "cell_type": "code",
      "metadata": {
        "colab": {
          "base_uri": "https://localhost:8080/"
        },
        "id": "0ro5d5E9XTpV",
        "outputId": "63408379-6e4f-41ec-c11a-d704797dbeed"
      },
      "source": [
        "# Evaluate the algorithm\n",
        "from sklearn import metrics\n",
        "print('Mean Absolute Error:', metrics.mean_absolute_error(y_test, y_pred))\n",
        "print('Mean Squared Error:', metrics.mean_squared_error(y_test, y_pred))\n",
        "print('Root Mean Squared Error:', np.sqrt(metrics.mean_squared_error(y_test, y_pred)))\n"
      ],
      "execution_count": null,
      "outputs": [
        {
          "output_type": "stream",
          "name": "stdout",
          "text": [
            "Mean Absolute Error: 154805.78154382846\n",
            "Mean Squared Error: 58599984273.84449\n",
            "Root Mean Squared Error: 242074.3362561271\n"
          ]
        }
      ]
    },
    {
      "cell_type": "code",
      "metadata": {
        "colab": {
          "base_uri": "https://localhost:8080/",
          "height": 295
        },
        "id": "asXUzP3EPBuI",
        "outputId": "835083ca-ebf2-40df-e84e-fd302176df17"
      },
      "source": [
        "#plot residual plot to assess correctness of the model\n",
        "residuals = y_pred - y_test\n",
        "\n",
        "# Plotting the prediction errors\n",
        "\n",
        "plt.scatter(y_pred, residuals, color='darkblue')\n",
        "plt.title('Residual Plot')\n",
        "plt.ylabel('residual')\n",
        "plt.xlabel('fitted values')\n",
        "plt.axhline(y= residuals.mean(), color='purple', linewidth=1)\n",
        "plt.show()"
      ],
      "execution_count": null,
      "outputs": [
        {
          "output_type": "display_data",
          "data": {
            "image/png": "[encoded data removed]",
            "text/plain": [
              "<Figure size 432x288 with 1 Axes>"
            ]
          },
          "metadata": {
            "needs_background": "light"
          }
        }
      ]
    },
    {
      "cell_type": "markdown",
      "metadata": {
        "id": "G-EL7JZuSTDd"
      },
      "source": [
        "### Barlett's Test of Heteroskedacity"
      ]
    },
    {
      "cell_type": "code",
      "metadata": {
        "colab": {
          "base_uri": "https://localhost:8080/"
        },
        "id": "OQeFq-tLQGat",
        "outputId": "ac5303ac-6893-4a81-de36-feb5b4590870"
      },
      "source": [
        "#perform a heteroscedasticity test using bartlett's test\n",
        "import scipy as sp\n",
        "\n",
        "test_result, p_value = sp.stats.bartlett(y_pred, residuals)\n",
        "\n",
        "# #compute a critical value of the chi squared distribution\n",
        "#for results interpretation\n",
        "degree_of_freedom = len(y_pred)-1\n",
        "probability = 1 - p_value\n",
        "\n",
        "\n",
        "critical_value = sp.stats.chi2.ppf(probability, degree_of_freedom)\n",
        "print(critical_value)\n",
        "\n",
        "# If the test_result is greater than the critical value, then we reject our null\n",
        "# hypothesis. This would mean that there are patterns to the variance of the data\n",
        "\n",
        "# Otherwise, we can identify no patterns, and we accept the null hypothesis that \n",
        "# the variance is homogeneous across our data\n",
        "\n",
        "if (test_result > critical_value):\n",
        "  print('The variances are unequal, and the model should be reassessed')\n",
        "else:\n",
        "  print('The variances are homogeneous')"
      ],
      "execution_count": null,
      "outputs": [
        {
          "output_type": "stream",
          "name": "stdout",
          "text": [
            "inf\n",
            "The variances are homogeneous\n"
          ]
        }
      ]
    },
    {
      "cell_type": "markdown",
      "metadata": {
        "id": "xG0WV979aH_G"
      },
      "source": [
        "### Ridge Regression"
      ]
    },
    {
      "cell_type": "code",
      "metadata": {
        "id": "PA7eknD7dhNC"
      },
      "source": [
        "# Import libraries\n",
        "from sklearn.model_selection import GridSearchCV\n",
        "from sklearn.linear_model import Ridge\n",
        "from sklearn.linear_model import LinearRegression\n",
        "from sklearn.metrics import mean_squared_error"
      ],
      "execution_count": null,
      "outputs": []
    },
    {
      "cell_type": "code",
      "metadata": {
        "id": "YEa35dWbeDRy"
      },
      "source": [
        "# Creating X and y variables\n",
        "X=house_df[['bedrooms', 'bathrooms', 'sqft_living', 'sqft_lot','floors','view',\n",
        "       'condition', 'yr_built', 'yr_renovated', 'zipcode',\n",
        "        'sqft_living15', 'sqft_lot15']]\n",
        "y=house_df['price']\n",
        "X_train, X_test, y_train, y_test = train_test_split(X, y, test_size=0.25, random_state=0)"
      ],
      "execution_count": null,
      "outputs": []
    },
    {
      "cell_type": "code",
      "metadata": {
        "id": "wNXCOgm2fBUX"
      },
      "source": [
        "# Splitting the dataset into training and testing sets\n",
        "#\n",
        "from sklearn.preprocessing import StandardScaler\n",
        "scaler = StandardScaler()\n",
        "X = scaler.fit_transform(X)"
      ],
      "execution_count": null,
      "outputs": []
    },
    {
      "cell_type": "code",
      "metadata": {
        "id": "WWlBAvKofU28"
      },
      "source": [
        "# determine the most appropriate value for the l2 regularization. \n",
        "ridge = Ridge(normalize=True)\n",
        "search = GridSearchCV(estimator=ridge,param_grid={'alpha':np.logspace(-5,2,8)},scoring='neg_mean_squared_error',n_jobs=1,refit=True,cv=10)"
      ],
      "execution_count": null,
      "outputs": []
    },
    {
      "cell_type": "code",
      "metadata": {
        "colab": {
          "base_uri": "https://localhost:8080/"
        },
        "id": "Z0nxsiWzfkgY",
        "outputId": "91699d9e-ab49-46b8-bae7-49b15e3d5289"
      },
      "source": [
        "# use the .fit function to run the model and then use the .best_params_ and\n",
        "#  .best_scores_ function to determine the models strength. \n",
        "# \n",
        "import warnings\n",
        "warnings.filterwarnings(\"ignore\")\n",
        "search.fit(X,y)\n",
        "search.best_params_\n",
        "{'alpha': 0.01}\n",
        "abs(search.best_score_)"
      ],
      "execution_count": null,
      "outputs": [
        {
          "output_type": "execute_result",
          "data": {
            "text/plain": [
              "55536588264.42134"
            ]
          },
          "metadata": {},
          "execution_count": 242
        }
      ]
    },
    {
      "cell_type": "code",
      "metadata": {
        "colab": {
          "base_uri": "https://localhost:8080/"
        },
        "id": "KfG-02q-f3j6",
        "outputId": "ea676327-a9dc-434a-9d2e-dd9cc14ad00d"
      },
      "source": [
        "# We can confirm this by fitting our model with the ridge information and finding the mean squared error below\n",
        "#\n",
        "ridge = Ridge(normalize=True,alpha=0.01)\n",
        "ridge.fit(X,y)\n",
        "second_model = (mean_squared_error(y_true=y,y_pred=ridge.predict(X)))\n",
        "print(second_model)"
      ],
      "execution_count": null,
      "outputs": [
        {
          "output_type": "stream",
          "name": "stdout",
          "text": [
            "54822512170.17082\n"
          ]
        }
      ]
    },
    {
      "cell_type": "code",
      "metadata": {
        "colab": {
          "base_uri": "https://localhost:8080/"
        },
        "id": "TFiYRNGLiyX5",
        "outputId": "132ba3fd-2308-4977-eb9e-b986c6076cdf"
      },
      "source": [
        "print('Ridge model Root Mean Squared Error:', np.sqrt(metrics.mean_squared_error(y_test, y_pred)))\n",
        "\n",
        "# Making predictions & checking accuracy using R2 score\n",
        "c = r2_score(y_test, y_pred)\n",
        "print(\"The R2 score for the ridge model is:\", c)"
      ],
      "execution_count": null,
      "outputs": [
        {
          "output_type": "stream",
          "name": "stdout",
          "text": [
            "Ridge model Root Mean Squared Error: 242074.3362561271\n",
            "The R2 score for the ridge model is: 0.5847396297701608\n"
          ]
        }
      ]
    },
    {
      "cell_type": "markdown",
      "metadata": {
        "id": "SUuCsA1JlGIT"
      },
      "source": [
        "### Lasso Regression"
      ]
    },
    {
      "cell_type": "code",
      "metadata": {
        "colab": {
          "base_uri": "https://localhost:8080/"
        },
        "id": "DmvoIykvlLek",
        "outputId": "2eecdc67-6372-452e-ec28-da40a1a1b41e"
      },
      "source": [
        "# Loading libraries\n",
        "from sklearn import linear_model\n",
        "from sklearn.linear_model import Lasso\n",
        "from sklearn.preprocessing import StandardScaler\n",
        "\n",
        "\n",
        "# Creating lasso object\n",
        "# \n",
        "lasso = linear_model.Lasso() \n",
        "\n",
        "# Fitting the models\n",
        "# \n",
        "lasso.fit(X, y) \n",
        "\n",
        "# Print scores, MSE, and coefficients\n",
        "# \n",
        "print(\"lasso score:\", lasso.score(X, y)) \n",
        "print(\"lasso MSE:\", mean_squared_error(y, lasso.predict(X))) \n",
        "print(\"lasso coef:\", lasso.coef_) "
      ],
      "execution_count": null,
      "outputs": [
        {
          "output_type": "stream",
          "name": "stdout",
          "text": [
            "lasso score: 0.5939257852521928\n",
            "lasso MSE: 54806777627.054375\n",
            "lasso coef: [-5.28482961e+04  4.50169925e+04  2.16689704e+05 -1.77618335e+02\n",
            "  3.24100011e+04  5.89419907e+04  1.41414520e+04 -8.41953873e+04\n",
            "  8.87653918e+03  4.17818272e+03  5.41179554e+04 -1.89298726e+04]\n"
          ]
        }
      ]
    },
    {
      "cell_type": "code",
      "metadata": {
        "colab": {
          "base_uri": "https://localhost:8080/"
        },
        "id": "zF2tRxhUmaV9",
        "outputId": "0c02186a-f3e7-4712-ee79-8eb064aefea6"
      },
      "source": [
        "# Splitting the data into training and test sets\n",
        "X_train, X_test, y_train, y_test = train_test_split(X, y, test_size=0.25, random_state=10)\n",
        "parameters = {'alpha': np.concatenate((np.arange(0.1,2,0.1), np.arange(2, 5, 0.5), np.arange(5, 25, 1)))}\n",
        "\n",
        "linear = linear_model.LinearRegression()\n",
        "lasso = linear_model.Lasso() \n",
        "gridlasso = GridSearchCV(lasso, parameters, scoring ='r2') \n",
        "\n",
        "# Fitting models and print the best parameters, R-squared scores, MSE, and coefficients\n",
        "gridlasso.fit(X_train, y_train) \n",
        "linear.fit(X_train, y_train) \n",
        "print(\"lasso best parameters:\", gridlasso.best_params_) \n",
        "print(\"lasso score:\", gridlasso.score(X_test, y_test))\n",
        "print(\"linear score:\", linear.score(X_test, y_test)) \n",
        "print(\"lasso MSE:\", mean_squared_error(y_test, gridlasso.predict(X_test)))\n",
        "print(\"linear MSE:\", mean_squared_error(y_test, linear.predict(X_test))) \n",
        "print(\"lasso best estimator coef:\", gridlasso.best_estimator_.coef_)\n",
        "print(\"linear coef:\", linear.coef_)"
      ],
      "execution_count": null,
      "outputs": [
        {
          "output_type": "stream",
          "name": "stdout",
          "text": [
            "lasso best parameters: {'alpha': 24.0}\n",
            "lasso score: 0.5793567437831907\n",
            "linear score: 0.5793436408767272\n",
            "lasso MSE: 58814594670.03112\n",
            "linear MSE: 58816426726.34312\n",
            "lasso best estimator coef: [-57493.20117906  49810.07281652 215260.84656168  -4589.4036911\n",
            "  31445.18400376  56906.17622199  14610.76698039 -85323.44080891\n",
            "   8155.59883093   2916.30119382  53727.92826754 -18451.21286085]\n",
            "linear coef: [-57565.06012563  49849.83729331 215291.3536404   -4608.85101819\n",
            "  31474.12349     56907.81498318  14637.36314096 -85369.77121881\n",
            "   8166.46247822   2929.92451326  53752.90877901 -18468.73048702]\n"
          ]
        }
      ]
    },
    {
      "cell_type": "code",
      "metadata": {
        "colab": {
          "base_uri": "https://localhost:8080/",
          "height": 513
        },
        "id": "HdVmLqULm5Wp",
        "outputId": "f1482fb7-cab7-42f0-d5a7-0a45b8afbb41"
      },
      "source": [
        "coefsLasso = [] \n",
        "\n",
        "# Building Lasso for 200 values of alpha and write the coefficients into array\n",
        "# \n",
        "alphasLasso = np.arange (0, 20, 0.1) \n",
        "for i in range(200):\n",
        "    lasso = linear_model.Lasso(alpha=alphasLasso[i])\n",
        "    lasso.fit(X_train, y_train)\n",
        "    coefsLasso.append(lasso.coef_) \n",
        "\n",
        "# Build Lasso coefficient plots\n",
        "# \n",
        "plt.figure(figsize = (10,8))\n",
        "\n",
        "plt.subplot(121)\n",
        "plt.plot(alphasLasso, coefsLasso)\n",
        "plt.title('Lasso coefficients')\n",
        "plt.xlabel('alpha')\n",
        "plt.ylabel('coefs')\n",
        "\n",
        "plt.show()\n"
      ],
      "execution_count": null,
      "outputs": [
        {
          "output_type": "display_data",
          "data": {
            "image/png": "[encoded data removed]",
            "text/plain": [
              "<Figure size 720x576 with 1 Axes>"
            ]
          },
          "metadata": {
            "needs_background": "light"
          }
        }
      ]
    },
    {
      "cell_type": "markdown",
      "metadata": {
        "id": "7VhydgMMnkb5"
      },
      "source": [
        "### Elastic Net"
      ]
    },
    {
      "cell_type": "code",
      "metadata": {
        "id": "suyjuqLDnnSD"
      },
      "source": [
        "# Import libraries\n",
        "from sklearn.model_selection import GridSearchCV\n",
        "from sklearn.linear_model import ElasticNet\n",
        "from sklearn.linear_model import LinearRegression\n",
        "from sklearn.metrics import mean_squared_error\n",
        "\n",
        "# Create grid\n",
        "elastic=ElasticNet(normalize=True)\n",
        "search=GridSearchCV(estimator=elastic,param_grid={'alpha':np.logspace(-5,2,8),'l1_ratio':[.2,.4,.6,.8]},scoring='neg_mean_squared_error',n_jobs=1,refit=True,cv=10)"
      ],
      "execution_count": null,
      "outputs": []
    },
    {
      "cell_type": "code",
      "metadata": {
        "colab": {
          "base_uri": "https://localhost:8080/"
        },
        "id": "-NULUM9moxh6",
        "outputId": "7e02a0a7-3b52-46e3-8cfe-7ff4f0bcab42"
      },
      "source": [
        "# Creating our linear regression model for the purpose of comparison\n",
        "# \n",
        "regression=LinearRegression()\n",
        "regression.fit(X,y)\n",
        "first_model=(mean_squared_error(y_true=y,y_pred=regression.predict(X)))\n",
        "print(first_model) "
      ],
      "execution_count": null,
      "outputs": [
        {
          "output_type": "stream",
          "name": "stdout",
          "text": [
            "54806777614.24556\n"
          ]
        }
      ]
    },
    {
      "cell_type": "code",
      "metadata": {
        "colab": {
          "base_uri": "https://localhost:8080/"
        },
        "id": "IcCalrJqoWkr",
        "outputId": "fd60c8e8-b0b4-44f2-ffc3-b0928666067c"
      },
      "source": [
        "# fit our model and display the best parameters\n",
        "\n",
        "search.fit(X,y)\n",
        "search.best_params_\n",
        "abs(search.best_score_)"
      ],
      "execution_count": null,
      "outputs": [
        {
          "output_type": "execute_result",
          "data": {
            "text/plain": [
              "55635441947.63383"
            ]
          },
          "metadata": {},
          "execution_count": 259
        }
      ]
    },
    {
      "cell_type": "markdown",
      "metadata": {
        "id": "M9_MTKixsT0O"
      },
      "source": [
        "### Quantile Regression"
      ]
    },
    {
      "cell_type": "code",
      "metadata": {
        "id": "bUt0YdeQzLY3"
      },
      "source": [
        "\n",
        "# Splitting our data into training and test sets\n",
        "\n",
        "X = house_df[['bedrooms', 'bathrooms', 'sqft_living', 'sqft_lot','floors','view',\n",
        "       'condition', 'yr_built', 'yr_renovated', 'zipcode',\n",
        "        'sqft_living15', 'sqft_lot15']].values\n",
        "y = house['price'].values\n",
        "X_train, X_test, y_train, y_test = train_test_split(X, y, test_size=0.25, random_state=0)"
      ],
      "execution_count": null,
      "outputs": []
    },
    {
      "cell_type": "code",
      "metadata": {
        "colab": {
          "base_uri": "https://localhost:8080/",
          "height": 313
        },
        "id": "8yMbivh50px4",
        "outputId": "9b65ad9a-2b03-486b-d431-88ae95871bed"
      },
      "source": [
        "# This is the assumption of linear regression\n",
        "# \n",
        "x = np.arange(100).reshape(100,1)\n",
        "intercept_ = 6\n",
        "slope_ = 0.1\n",
        "\n",
        "## non constant error\n",
        "error_ = np.random.normal(size = (100,1), loc = 0.0, scale = 1)\n",
        "\n",
        "## Regression equation\n",
        "y = intercept_ + slope_ * x + error_\n",
        "\n",
        "plt.figure(1)\n",
        "plt.scatter(x, y)\n",
        "plt.xlabel(\"x\")\n",
        "plt.ylabel(\"y\")\n",
        "plt.title(\"Data with constant variance\")\n"
      ],
      "execution_count": null,
      "outputs": [
        {
          "output_type": "execute_result",
          "data": {
            "text/plain": [
              "Text(0.5, 1.0, 'Data with constant variance')"
            ]
          },
          "metadata": {},
          "execution_count": 284
        },
        {
          "output_type": "display_data",
          "data": {
            "image/png": "[encoded data removed]",
            "text/plain": [
              "<Figure size 432x288 with 1 Axes>"
            ]
          },
          "metadata": {
            "needs_background": "light"
          }
        }
      ]
    },
    {
      "cell_type": "code",
      "metadata": {
        "colab": {
          "base_uri": "https://localhost:8080/"
        },
        "id": "pz2INVhn1bMk",
        "outputId": "d44ac88f-285f-4780-9185-6a0a281d561b"
      },
      "source": [
        "## Creating a linear regression model regression on the above dataset\n",
        "#\n",
        "from sklearn.linear_model import LinearRegression\n",
        "\n",
        "model1 = LinearRegression(fit_intercept = True, normalize = False)\n",
        "model1.fit(x, y)\n",
        "\n",
        "y_pred1 = model1.predict(x)\n",
        "\n",
        "print(\"Mean squared error: {0:.2f}\"\n",
        "      .format(np.mean((y_pred1 - y) ** 2)))\n",
        "print('Variance score: {0:.2f}'.format(model1.score(x, y)))\n"
      ],
      "execution_count": null,
      "outputs": [
        {
          "output_type": "stream",
          "name": "stdout",
          "text": [
            "Mean squared error: 0.85\n",
            "Variance score: 0.91\n"
          ]
        }
      ]
    },
    {
      "cell_type": "code",
      "metadata": {
        "colab": {
          "base_uri": "https://localhost:8080/",
          "height": 296
        },
        "id": "3g5ZHr7R1igE",
        "outputId": "9a639e28-9380-425a-9327-4ead7ba2ee43"
      },
      "source": [
        "# Plotting the regression\n",
        "plt.figure(2)\n",
        "plt.scatter(x, y,  color='black')\n",
        "plt.plot(x, y_pred1, color='purple',\n",
        "         linewidth=3)\n",
        "\n",
        "plt.xticks(())\n",
        "plt.yticks(())\n",
        "plt.xlabel(\"x\")\n",
        "plt.ylabel(\"y and predicted y\")\n",
        "plt.title(\"Linear regression\")"
      ],
      "execution_count": null,
      "outputs": [
        {
          "output_type": "execute_result",
          "data": {
            "text/plain": [
              "Text(0.5, 1.0, 'Linear regression')"
            ]
          },
          "metadata": {},
          "execution_count": 287
        },
        {
          "output_type": "display_data",
          "data": {
            "image/png": "[encoded data removed]",
            "text/plain": [
              "<Figure size 432x288 with 1 Axes>"
            ]
          },
          "metadata": {}
        }
      ]
    },
    {
      "cell_type": "code",
      "metadata": {
        "colab": {
          "base_uri": "https://localhost:8080/",
          "height": 313
        },
        "id": "iLpgV9sF10ha",
        "outputId": "d58962c7-c7df-4af4-9ec3-ba0e66c6d949"
      },
      "source": [
        "# Now let get to work with some data that violates \n",
        "# our linear regression assumption. This means first \n",
        "# adding some noise to our dataset. \n",
        "# We will first generating some data with non-constant variance\n",
        "# \n",
        "x_ = np.arange(100).reshape(100,1)\n",
        "intercept_ = 6\n",
        "slope_ = 0.1\n",
        "\n",
        "## Non constant variance\n",
        "var_ = 0.1 + 0.05 * x_\n",
        "\n",
        "## non constant error\n",
        "error_ = np.random.normal(size = (100,1), loc = 0.0, scale = var_)\n",
        "\n",
        "## Linear egression equation\n",
        "y_ = intercept_ + slope_ * x + error_\n",
        "\n",
        "plt.figure(3)\n",
        "plt.scatter(x_, y_)\n",
        "plt.xlabel(\"x\")\n",
        "plt.ylabel(\"y\")\n",
        "plt.title(\"Data with non-constant variance\")"
      ],
      "execution_count": null,
      "outputs": [
        {
          "output_type": "execute_result",
          "data": {
            "text/plain": [
              "Text(0.5, 1.0, 'Data with non-constant variance')"
            ]
          },
          "metadata": {},
          "execution_count": 288
        },
        {
          "output_type": "display_data",
          "data": {
            "image/png": "[encoded data removed]",
            "text/plain": [
              "<Figure size 432x288 with 1 Axes>"
            ]
          },
          "metadata": {
            "needs_background": "light"
          }
        }
      ]
    },
    {
      "cell_type": "code",
      "metadata": {
        "colab": {
          "base_uri": "https://localhost:8080/"
        },
        "id": "IF7VplMf18ed",
        "outputId": "8a8eef19-a355-4899-fe3c-2f6513f6892f"
      },
      "source": [
        "# Let's now trying to fit a linear regression\n",
        "# \n",
        "model2 = LinearRegression(fit_intercept = True, normalize = False)\n",
        "model2.fit(x_, y_)\n",
        "\n",
        "y_pred2 = model2.predict(x_)\n",
        "\n",
        "print\n",
        "print(\"Mean squared error: {0:.2f}\"\n",
        "      .format(np.mean((y_pred2 - y_) ** 2)))\n",
        "print('Variance score: {0:.2f}'.format(model1.score(x_, y_)))"
      ],
      "execution_count": null,
      "outputs": [
        {
          "output_type": "stream",
          "name": "stdout",
          "text": [
            "Mean squared error: 8.21\n",
            "Variance score: 0.46\n"
          ]
        }
      ]
    },
    {
      "cell_type": "code",
      "metadata": {
        "colab": {
          "base_uri": "https://localhost:8080/",
          "height": 206
        },
        "id": "IN6E0CLo2kIi",
        "outputId": "6730063c-1e45-4eb1-e1de-564027fdf5c7"
      },
      "source": [
        "# Now implementing quantile regression for the median, 0.5th quantile\n",
        "house_df = pd.DataFrame(data = np.hstack([x_, y_]), columns = [\"x\", \"y\"])\n",
        "house_df.head()"
      ],
      "execution_count": null,
      "outputs": [
        {
          "output_type": "execute_result",
          "data": {
            "text/html": [
              "<div>\n",
              "<style scoped>\n",
              "    .dataframe tbody tr th:only-of-type {\n",
              "        vertical-align: middle;\n",
              "    }\n",
              "\n",
              "    .dataframe tbody tr th {\n",
              "        vertical-align: top;\n",
              "    }\n",
              "\n",
              "    .dataframe thead th {\n",
              "        text-align: right;\n",
              "    }\n",
              "</style>\n",
              "<table border=\"1\" class=\"dataframe\">\n",
              "  <thead>\n",
              "    <tr style=\"text-align: right;\">\n",
              "      <th></th>\n",
              "      <th>x</th>\n",
              "      <th>y</th>\n",
              "    </tr>\n",
              "  </thead>\n",
              "  <tbody>\n",
              "    <tr>\n",
              "      <th>0</th>\n",
              "      <td>0.0</td>\n",
              "      <td>6.049444</td>\n",
              "    </tr>\n",
              "    <tr>\n",
              "      <th>1</th>\n",
              "      <td>1.0</td>\n",
              "      <td>6.261717</td>\n",
              "    </tr>\n",
              "    <tr>\n",
              "      <th>2</th>\n",
              "      <td>2.0</td>\n",
              "      <td>6.276781</td>\n",
              "    </tr>\n",
              "    <tr>\n",
              "      <th>3</th>\n",
              "      <td>3.0</td>\n",
              "      <td>6.035014</td>\n",
              "    </tr>\n",
              "    <tr>\n",
              "      <th>4</th>\n",
              "      <td>4.0</td>\n",
              "      <td>6.482710</td>\n",
              "    </tr>\n",
              "  </tbody>\n",
              "</table>\n",
              "</div>"
            ],
            "text/plain": [
              "     x         y\n",
              "0  0.0  6.049444\n",
              "1  1.0  6.261717\n",
              "2  2.0  6.276781\n",
              "3  3.0  6.035014\n",
              "4  4.0  6.482710"
            ]
          },
          "metadata": {},
          "execution_count": 292
        }
      ]
    },
    {
      "cell_type": "code",
      "metadata": {
        "id": "v_yVIT9w3klH"
      },
      "source": [
        "# We will use the python package statsmodels for Quantile Regression\n",
        "#\n",
        "import statsmodels.formula.api as smf"
      ],
      "execution_count": null,
      "outputs": []
    },
    {
      "cell_type": "code",
      "metadata": {
        "colab": {
          "base_uri": "https://localhost:8080/"
        },
        "id": "Q3KhBKoO3qhV",
        "outputId": "242b7b01-4c22-4f0b-b78f-365f34a4da10"
      },
      "source": [
        "# Finding the regression coefficients for the conditioned median, 0.5 quantile\n",
        "#\n",
        "mod = smf.quantreg('y ~ x', house_df)\n",
        "res = mod.fit(q=.5)\n",
        "\n",
        "# Then print out the summary of our model\n",
        "#\n",
        "print(res.summary())\n",
        " "
      ],
      "execution_count": null,
      "outputs": [
        {
          "output_type": "stream",
          "name": "stdout",
          "text": [
            "                         QuantReg Regression Results                          \n",
            "==============================================================================\n",
            "Dep. Variable:                      y   Pseudo R-squared:               0.3367\n",
            "Model:                       QuantReg   Bandwidth:                       2.072\n",
            "Method:                 Least Squares   Sparsity:                        5.633\n",
            "Date:                Sun, 28 Nov 2021   No. Observations:                  100\n",
            "Time:                        09:27:25   Df Residuals:                       98\n",
            "                                        Df Model:                            1\n",
            "==============================================================================\n",
            "                 coef    std err          t      P>|t|      [0.025      0.975]\n",
            "------------------------------------------------------------------------------\n",
            "Intercept      6.0688      0.559     10.855      0.000       4.959       7.178\n",
            "x              0.0911      0.010      9.338      0.000       0.072       0.110\n",
            "==============================================================================\n"
          ]
        }
      ]
    },
    {
      "cell_type": "code",
      "metadata": {
        "colab": {
          "base_uri": "https://localhost:8080/"
        },
        "id": "1AwE1DY05IMw",
        "outputId": "ebb97051-251e-484d-f96d-8f1a5c1a462b"
      },
      "source": [
        "# Similarly we can do the models for other quantiles\n",
        "# \n",
        "quantiles = np.arange(0.1,1,0.1) \n",
        "models = []\n",
        "params = []\n",
        "\n",
        "# We build models for each quantile in our list quantiles inside a for loop\n",
        "# As we build these models we also store the model parameters in a list called params. \n",
        "for qt in quantiles: \n",
        "\tres = mod.fit(q = qt )\n",
        "\tmodels.append(res)\n",
        "\tparams.append([qt, res.params['Intercept'], res.params['x']] + res.conf_int().loc['x'].tolist())\n",
        "\n",
        "# Lastly we make a dataframe of the same name, so we we can view our different models.\n",
        "params = pd.DataFrame(data = params, columns = ['qt', 'intercept', 'x_coef', 'cf_lower_bound', 'cf_upper_bound'])\n",
        "print(params)"
      ],
      "execution_count": null,
      "outputs": [
        {
          "output_type": "stream",
          "name": "stdout",
          "text": [
            "    qt  intercept    x_coef  cf_lower_bound  cf_upper_bound\n",
            "0  0.1   5.360674  0.042615        0.023330        0.061900\n",
            "1  0.2   5.888667  0.048782        0.029071        0.068494\n",
            "2  0.3   6.049444  0.057124        0.036902        0.077347\n",
            "3  0.4   5.880968  0.082268        0.063016        0.101521\n",
            "4  0.5   6.068809  0.091105        0.071744        0.110467\n",
            "5  0.6   6.098129  0.096145        0.077614        0.114676\n",
            "6  0.7   6.153319  0.108396        0.088001        0.128790\n",
            "7  0.8   6.050969  0.141988        0.115938        0.168038\n",
            "8  0.9   6.104234  0.157483        0.133259        0.181706\n"
          ]
        }
      ]
    },
    {
      "cell_type": "code",
      "metadata": {
        "colab": {
          "base_uri": "https://localhost:8080/",
          "height": 296
        },
        "id": "GzWgAP2X5RDk",
        "outputId": "76b9b063-84d2-4a3d-fe51-948ed5d4efed"
      },
      "source": [
        "# Let us now plot 0.1th, 0.5th and 0.9th quantile models against our original data.\n",
        "# \n",
        "plt.figure(5)\n",
        "plt.scatter(x_, y_,  color='black')\n",
        "plt.plot(x_, y_pred2, color='blue',\n",
        "         linewidth=1, label='Lin Reg')\n",
        "\n",
        "y_pred3 = models[0].params['Intercept'] + models[0].params['x'] * x_\n",
        "plt.plot(x_, y_pred3, color='red',\n",
        "         linewidth=1, label='Q Reg : 0.1')\n",
        "\n",
        "y_pred4 = models[4].params['Intercept'] + models[4].params['x'] * x_\n",
        "plt.plot(x_, y_pred4, color='green',\n",
        "         linewidth=1, label='Q Reg : 0.5')\n",
        "\n",
        "\n",
        "y_pred5 = models[8].params['Intercept'] + models[8].params['x'] * x_\n",
        "plt.plot(x_, y_pred5, color='cyan',\n",
        "         linewidth=1, label='Q Reg : 0.9')\n",
        "\n",
        "plt.xticks(())\n",
        "plt.yticks(())\n",
        "plt.xlabel(\"x\")\n",
        "plt.ylabel(\"y and predicted y\")\n",
        "plt.title(\"Quantile regression on data with non-constant variance\")\n",
        "plt.legend()\n"
      ],
      "execution_count": null,
      "outputs": [
        {
          "output_type": "execute_result",
          "data": {
            "text/plain": [
              "<matplotlib.legend.Legend at 0x7fcbea8fc2d0>"
            ]
          },
          "metadata": {},
          "execution_count": 305
        },
        {
          "output_type": "display_data",
          "data": {
            "image/png": "[encoded data removed]",
            "text/plain": [
              "<Figure size 432x288 with 1 Axes>"
            ]
          },
          "metadata": {}
        }
      ]
    },
    {
      "cell_type": "markdown",
      "metadata": {
        "id": "MNscePSd6P-G"
      },
      "source": [
        "### Follow up questions\n",
        "\n",
        "*   Do we have the right data? Yes the data was enough to solve the tasks\n",
        "\n",
        "*   Did we answer the questions? The question was answered from the above observations\n",
        "\n",
        "\n",
        "*   Did we need any more data? The data was sufficient \n",
        "\n",
        "\n",
        "\n"
      ]
    }
  ]
}